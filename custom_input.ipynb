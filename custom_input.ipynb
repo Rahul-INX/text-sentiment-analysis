{
 "cells": [
  {
   "cell_type": "code",
   "execution_count": 17,
   "metadata": {},
   "outputs": [
    {
     "name": "stdout",
     "output_type": "stream",
     "text": [
      "1/1 [==============================] - 1s 1s/step\n",
      "Predicted Emotion: joy\n"
     ]
    }
   ],
   "source": [
    "import tensorflow as tf\n",
    "import numpy as np\n",
    "import pickle\n",
    "from tensorflow.keras.preprocessing.sequence import pad_sequences\n",
    "\n",
    "# Sample dataset for tokenization\n",
    "tweets = [\n",
    "    \"I am feeling happy\",\n",
    "    \"This movie is amazing\",\n",
    "    \"I'm so scared right now\",\n",
    "    \"Feeling sad and lonely\",\n",
    "    \"What a pleasant surprise\",\n",
    "    \"I love ice cream\"\n",
    "]\n",
    "\n",
    "# Load the tokenizer from a saved file\n",
    "with open('tokenizer.pkl', 'rb') as f:\n",
    "    tokenizer = pickle.load(f)\n",
    "\n",
    "model = tf.keras.models.load_model(\"emotion_model_trained.h5\")\n",
    "\n",
    "# Mapping of emotion classes\n",
    "index_to_classes = {0: 'anger', 1: 'fear', 2: 'sadness', 3: 'surprise', 4: 'joy', 5: 'love'}\n",
    "\n",
    "# Prompt the user for text input\n",
    "text = input(\"Enter your text: \")\n",
    "\n",
    "# Preprocess the input\n",
    "sequence = tokenizer.texts_to_sequences([text])\n",
    "sequence = pad_sequences(sequence, truncating='post', maxlen=50, padding='post')\n",
    "\n",
    "# Use the trained model to predict the emotion\n",
    "predicted_emotion = index_to_classes[np.argmax(model.predict(sequence))]\n",
    "\n",
    "# Display the predicted emotion\n",
    "print(\"Predicted Emotion:\", predicted_emotion)\n"
   ]
  }
 ],
 "metadata": {
  "kernelspec": {
   "display_name": "Python 3",
   "language": "python",
   "name": "python3"
  },
  "language_info": {
   "codemirror_mode": {
    "name": "ipython",
    "version": 3
   },
   "file_extension": ".py",
   "mimetype": "text/x-python",
   "name": "python",
   "nbconvert_exporter": "python",
   "pygments_lexer": "ipython3",
   "version": "3.10.11"
  },
  "orig_nbformat": 4
 },
 "nbformat": 4,
 "nbformat_minor": 2
}
