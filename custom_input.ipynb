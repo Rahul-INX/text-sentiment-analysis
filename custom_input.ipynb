{
 "cells": [
  {
   "cell_type": "code",
   "execution_count": 50,
   "metadata": {},
   "outputs": [],
   "source": [
    "import tensorflow as tf\n",
    "from tensorflow.keras.preprocessing.sequence import pad_sequences\n",
    "import pickle\n",
    "import numpy as np\n",
    "\n",
    "# Load the tokenizer\n",
    "with open('tokenizer.pkl', 'rb') as f:\n",
    "    tokenizer = pickle.load(f)\n",
    "\n",
    "# Load the emotion trained model\n",
    "model = tf.keras.models.load_model('emotion_model_trained.h5')\n"
   ]
  },
  {
   "cell_type": "code",
   "execution_count": 51,
   "metadata": {},
   "outputs": [],
   "source": [
    "def preprocess_text(text):\n",
    "    # Tokenize the text\n",
    "    sequence = tokenizer.texts_to_sequences([text])\n",
    "\n",
    "    # Pad the sequence\n",
    "    padded_sequence = pad_sequences(sequence, truncating='post', maxlen=50, padding='post')\n",
    "\n",
    "    return padded_sequence\n"
   ]
  },
  {
   "cell_type": "code",
   "execution_count": 52,
   "metadata": {},
   "outputs": [],
   "source": [
    "def predict_emotion(text):\n",
    "    # Preprocess the text\n",
    "    processed_text = preprocess_text(text)\n",
    "\n",
    "    # Predict the emotion probabilities\n",
    "    predicted_probs = model.predict(processed_text)[0]\n",
    "\n",
    "    # Get the index of the predicted emotion\n",
    "    predicted_index = np.argmax(predicted_probs)\n",
    "\n",
    "    # Map the predicted index to the corresponding emotion\n",
    "    emotions = ['anger', 'fear', 'sadness', 'surprise', 'joy', 'love']\n",
    "    predicted_emotion = emotions[predicted_index]\n",
    "\n",
    "    return predicted_emotion\n"
   ]
  },
  {
   "cell_type": "code",
   "execution_count": 53,
   "metadata": {},
   "outputs": [
    {
     "name": "stdout",
     "output_type": "stream",
     "text": [
      "1/1 [==============================] - 1s 1s/step\n",
      "Predicted Emotion: joy\n"
     ]
    }
   ],
   "source": [
    "text = input('enter your ')\n",
    "emotion = predict_emotion(text)\n",
    "print(\"Predicted Emotion:\", emotion)\n"
   ]
  },
  {
   "cell_type": "code",
   "execution_count": null,
   "metadata": {},
   "outputs": [],
   "source": []
  },
  {
   "cell_type": "code",
   "execution_count": null,
   "metadata": {},
   "outputs": [],
   "source": []
  },
  {
   "cell_type": "code",
   "execution_count": null,
   "metadata": {},
   "outputs": [],
   "source": []
  },
  {
   "cell_type": "code",
   "execution_count": null,
   "metadata": {},
   "outputs": [],
   "source": []
  },
  {
   "cell_type": "code",
   "execution_count": 54,
   "metadata": {},
   "outputs": [],
   "source": [
    "test_strings = [\n",
    "    \"I can't believe how excited I am!\",\n",
    "    \"Feeling a bit anxious about the upcoming presentation.\",\n",
    "    \"Today is a sad day for me. Missing my loved ones.\",\n",
    "    \"Surprised to see my favorite actor at the grocery store!\",\n",
    "    \"The joy of accomplishing a difficult task is unmatched.\",\n",
    "    \"Sending love and hugs to all my friends and family.\",\n",
    "    \"Feeling angry at the unfairness of the situation.\",\n",
    "    \"A sudden wave of fear washed over me in that moment.\",\n",
    "    \"Listening to sad songs and reflecting on life.\",\n",
    "    \"The surprise party was a great success!\",\n",
    "    \"Overflowing with happiness and gratitude.\",\n",
    "    \"Anxiety is taking over my thoughts right now.\",\n",
    "    \"Feeling overwhelmed by the workload.\",\n",
    "    \"Tears of joy streamed down my face.\",\n",
    "    \"Caught off guard by the unexpected turn of events.\",\n",
    "    \"A profound sense of contentment fills my heart.\",\n",
    "    \"Feeling a deep connection and affection for someone.\",\n",
    "    \"Frustration is building up inside me.\",\n",
    "    \"A sense of unease creeps in as darkness falls.\",\n",
    "    \"Memories of a lost loved one bring tears to my eyes.\",\n",
    "    \"The thrill of a thrilling roller coaster ride!\",\n",
    "    \"A warm embrace brings comfort and happiness.\",\n",
    "    \"The disappointment is hard to bear.\",\n",
    "    \"Worry and apprehension consume my thoughts.\",\n",
    "    \"Grateful for the small blessings in life.\",\n",
    "    \"Feeling a surge of anger towards injustice.\",\n",
    "    \"Fear grips me in its tight embrace.\",\n",
    "    \"Loneliness engulfs me like a dark cloud.\",\n",
    "    \"A pleasant surprise made my day brighter.\",\n",
    "    \"Experiencing pure bliss in this moment.\",\n",
    "    \"Feeling the love and support of those around me.\",\n",
    "    \"Overcome with rage at the unfair treatment.\",\n",
    "    \"A sudden jolt of fear runs through my veins.\",\n",
    "    \"Finding solace in melancholic music.\",\n",
    "    \"Eyes wide open in astonishment and surprise.\",\n",
    "    \"Radiating happiness and positive vibes.\",\n",
    "    \"Feeling a deep sense of affection for nature.\",\n",
    "    \"Anger boils inside me like a raging fire.\",\n",
    "    \"Anxiety keeps me awake at night.\",\n",
    "    \"Tears of sorrow cannot be held back.\",\n",
    "    \"Thrilled by the unexpected plot twist!\",\n",
    "    \"A heartwarming gesture brings tears to my eyes.\"\n",
    "]\n",
    "\n",
    "emotions_list = ['joy', 'fear', 'sadness', 'surprise', 'joy', 'love', 'anger', 'fear', 'sadness', 'joy', 'joy', 'fear', 'sadness', 'joy', 'surprise', 'joy', 'love', 'anger', 'fear', 'sadness', 'joy', 'joy', 'sadness', 'fear', 'joy', 'anger', 'fear', 'sadness', 'surprise', 'joy', 'love', 'anger', 'fear', 'sadness', 'surprise', 'joy', 'love', 'anger', 'fear', 'sadness', 'surprise', 'joy']"
   ]
  },
  {
   "cell_type": "code",
   "execution_count": 55,
   "metadata": {},
   "outputs": [
    {
     "name": "stdout",
     "output_type": "stream",
     "text": [
      "1/1 [==============================] - 0s 27ms/step\n",
      "Predicted Emotion: joy :  joy\n",
      "1/1 [==============================] - 0s 26ms/step\n",
      "Predicted Emotion: fear :  fear\n",
      "1/1 [==============================] - 0s 22ms/step\n",
      "Predicted Emotion: sadness :  sadness\n",
      "1/1 [==============================] - 0s 29ms/step\n",
      "Predicted Emotion: surprise :  surprise\n",
      "1/1 [==============================] - 0s 24ms/step\n",
      "Predicted Emotion: joy :  joy\n",
      "1/1 [==============================] - 0s 23ms/step\n",
      "Predicted Emotion: sadness :  love\n",
      "1/1 [==============================] - 0s 23ms/step\n",
      "Predicted Emotion: anger :  anger\n",
      "1/1 [==============================] - 0s 21ms/step\n",
      "Predicted Emotion: sadness :  fear\n",
      "1/1 [==============================] - 0s 24ms/step\n",
      "Predicted Emotion: sadness :  sadness\n",
      "1/1 [==============================] - 0s 24ms/step\n",
      "Predicted Emotion: joy :  joy\n",
      "1/1 [==============================] - 0s 22ms/step\n",
      "Predicted Emotion: joy :  joy\n",
      "1/1 [==============================] - 0s 22ms/step\n",
      "Predicted Emotion: anger :  fear\n",
      "1/1 [==============================] - 0s 24ms/step\n",
      "Predicted Emotion: fear :  sadness\n",
      "1/1 [==============================] - 0s 29ms/step\n",
      "Predicted Emotion: joy :  joy\n",
      "1/1 [==============================] - 0s 38ms/step\n",
      "Predicted Emotion: joy :  surprise\n",
      "1/1 [==============================] - 0s 36ms/step\n",
      "Predicted Emotion: anger :  joy\n",
      "1/1 [==============================] - 0s 24ms/step\n",
      "Predicted Emotion: sadness :  love\n",
      "1/1 [==============================] - 0s 23ms/step\n",
      "Predicted Emotion: fear :  anger\n",
      "1/1 [==============================] - 0s 21ms/step\n",
      "Predicted Emotion: anger :  fear\n",
      "1/1 [==============================] - 0s 26ms/step\n",
      "Predicted Emotion: sadness :  sadness\n",
      "1/1 [==============================] - 0s 23ms/step\n",
      "Predicted Emotion: joy :  joy\n",
      "1/1 [==============================] - 0s 23ms/step\n",
      "Predicted Emotion: joy :  joy\n",
      "1/1 [==============================] - 0s 34ms/step\n",
      "Predicted Emotion: sadness :  sadness\n",
      "1/1 [==============================] - 0s 41ms/step\n",
      "Predicted Emotion: sadness :  fear\n",
      "1/1 [==============================] - 0s 128ms/step\n",
      "Predicted Emotion: fear :  joy\n",
      "1/1 [==============================] - 0s 39ms/step\n",
      "Predicted Emotion: anger :  anger\n",
      "1/1 [==============================] - 0s 28ms/step\n",
      "Predicted Emotion: fear :  fear\n",
      "1/1 [==============================] - 0s 29ms/step\n",
      "Predicted Emotion: fear :  sadness\n",
      "1/1 [==============================] - 0s 31ms/step\n",
      "Predicted Emotion: joy :  surprise\n",
      "1/1 [==============================] - 0s 33ms/step\n",
      "Predicted Emotion: anger :  joy\n",
      "1/1 [==============================] - 0s 43ms/step\n",
      "Predicted Emotion: joy :  love\n",
      "1/1 [==============================] - 0s 25ms/step\n",
      "Predicted Emotion: anger :  anger\n",
      "1/1 [==============================] - 0s 25ms/step\n",
      "Predicted Emotion: sadness :  fear\n",
      "1/1 [==============================] - 0s 23ms/step\n",
      "Predicted Emotion: sadness :  sadness\n",
      "1/1 [==============================] - 0s 21ms/step\n",
      "Predicted Emotion: joy :  surprise\n",
      "1/1 [==============================] - 0s 22ms/step\n",
      "Predicted Emotion: joy :  joy\n",
      "1/1 [==============================] - 0s 20ms/step\n",
      "Predicted Emotion: joy :  love\n",
      "1/1 [==============================] - 0s 25ms/step\n",
      "Predicted Emotion: anger :  anger\n",
      "1/1 [==============================] - 0s 24ms/step\n",
      "Predicted Emotion: fear :  fear\n",
      "1/1 [==============================] - 0s 21ms/step\n",
      "Predicted Emotion: sadness :  sadness\n",
      "1/1 [==============================] - 0s 22ms/step\n",
      "Predicted Emotion: joy :  surprise\n",
      "1/1 [==============================] - 0s 24ms/step\n",
      "Predicted Emotion: anger :  joy\n"
     ]
    }
   ],
   "source": [
    "i = 0\n",
    "for text in test_strings:\n",
    "    emotion = predict_emotion(text)\n",
    "    print(\"Predicted Emotion:\", emotion, \": \", emotions_list[i])\n",
    "    i += 1\n"
   ]
  },
  {
   "cell_type": "code",
   "execution_count": null,
   "metadata": {},
   "outputs": [],
   "source": []
  }
 ],
 "metadata": {
  "kernelspec": {
   "display_name": "Python 3",
   "language": "python",
   "name": "python3"
  },
  "language_info": {
   "codemirror_mode": {
    "name": "ipython",
    "version": 3
   },
   "file_extension": ".py",
   "mimetype": "text/x-python",
   "name": "python",
   "nbconvert_exporter": "python",
   "pygments_lexer": "ipython3",
   "version": "3.10.11"
  },
  "orig_nbformat": 4
 },
 "nbformat": 4,
 "nbformat_minor": 2
}
