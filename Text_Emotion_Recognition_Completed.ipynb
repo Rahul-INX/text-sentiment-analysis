{
 "cells": [
  {
   "cell_type": "markdown",
   "metadata": {
    "colab_type": "text",
    "id": "sp7D0ktn5eiG"
   },
   "source": [
    "## Tweet Emotion Recognition: Natural Language Processing with TensorFlow\n",
    "\n",
    "---\n",
    "\n",
    "Dataset: [Tweet Emotion Dataset](https://github.com/dair-ai/emotion_dataset)\n",
    "\n",
    "Created for Coursera guided project [Tweet Emotion Recognition with TensorFlow](https://www.coursera.org/learn/tweet-emotion-tensorflow)\n",
    "\n",
    "---\n",
    "\n",
    "## Task 1: Introduction\n"
   ]
  },
  {
   "cell_type": "markdown",
   "metadata": {},
   "source": [
    "## Task 2: Setup and Imports\n",
    "\n",
    "1. Installing Hugging Face's nlp package\n",
    "2. Importing libraries"
   ]
  },
  {
   "cell_type": "raw",
   "metadata": {
    "colab": {
     "base_uri": "https://localhost:8080/",
     "height": 302
    },
    "colab_type": "code",
    "id": "5agZRy-45i0g",
    "outputId": "9bf34b7b-174c-49e4-e93c-e883a24423f7"
   },
   "source": [
    "pip install nlp"
   ]
  },
  {
   "cell_type": "code",
<<<<<<< HEAD
   "execution_count": 1,
=======
   "execution_count": 113,
>>>>>>> master
   "metadata": {
    "colab": {
     "base_uri": "https://localhost:8080/",
     "height": 34
    },
    "colab_type": "code",
    "id": "yKFjWz6e5eiH",
    "outputId": "79c40ded-2cbb-4fd1-e2ad-88c1629bf988"
   },
   "outputs": [
    {
<<<<<<< HEAD
     "name": "stderr",
     "output_type": "stream",
     "text": [
      "c:\\Users\\RAHUL HARIVANSH\\AppData\\Local\\Programs\\Python\\Python310\\lib\\site-packages\\tqdm\\auto.py:21: TqdmWarning: IProgress not found. Please update jupyter and ipywidgets. See https://ipywidgets.readthedocs.io/en/stable/user_install.html\n",
      "  from .autonotebook import tqdm as notebook_tqdm\n"
     ]
    },
    {
=======
>>>>>>> master
     "name": "stdout",
     "output_type": "stream",
     "text": [
      "Using TensorFlow version 2.12.0\n"
     ]
    }
   ],
   "source": [
    "%matplotlib inline\n",
    "\n",
    "import tensorflow as tf\n",
    "import numpy as np\n",
    "import matplotlib.pyplot as plt\n",
    "import nlp\n",
    "import random\n",
    "\n",
    "\n",
    "def show_history(h):\n",
    "    epochs_trained = len(h.history['loss'])\n",
    "    plt.figure(figsize=(16, 6))\n",
    "\n",
    "    plt.subplot(1, 2, 1)\n",
    "    plt.plot(range(0, epochs_trained), h.history.get('accuracy'), label='Training')\n",
    "    plt.plot(range(0, epochs_trained), h.history.get('val_accuracy'), label='Validation')\n",
    "    plt.ylim([0., 1.])\n",
    "    plt.xlabel('Epochs')\n",
    "    plt.ylabel('Accuracy')\n",
    "    plt.legend()\n",
    "\n",
    "    plt.subplot(1, 2, 2)\n",
    "    plt.plot(range(0, epochs_trained), h.history.get('loss'), label='Training')\n",
    "    plt.plot(range(0, epochs_trained), h.history.get('val_loss'), label='Validation')\n",
    "    plt.xlabel('Epochs')\n",
    "    plt.ylabel('Loss')\n",
    "    plt.legend()\n",
    "    plt.show()\n",
    "\n",
    "    \n",
    "def show_confusion_matrix(y_true, y_pred, classes):\n",
    "    from sklearn.metrics import confusion_matrix\n",
    "    \n",
    "    cm = confusion_matrix(y_true, y_pred, normalize='true')\n",
    "\n",
    "    plt.figure(figsize=(8, 8))\n",
    "    sp = plt.subplot(1, 1, 1)\n",
    "    ctx = sp.matshow(cm)\n",
    "    plt.xticks(list(range(0, 6)), labels=classes)\n",
    "    plt.yticks(list(range(0, 6)), labels=classes)\n",
    "    plt.colorbar(ctx)\n",
    "    plt.show()\n",
    "\n",
    "    \n",
    "print('Using TensorFlow version', tf.__version__)"
   ]
  },
  {
   "cell_type": "markdown",
   "metadata": {},
   "source": [
    "## Task 3: Importing Data\n",
    "\n",
    "1. Importing the Tweet Emotion dataset\n",
    "2. Creating train, validation and test sets\n",
    "3. Extracting tweets and labels from the examples"
   ]
  },
  {
   "cell_type": "code",
<<<<<<< HEAD
   "execution_count": 2,
=======
   "execution_count": 114,
>>>>>>> master
   "metadata": {
    "colab": {
     "base_uri": "https://localhost:8080/",
     "height": 34
    },
    "colab_type": "code",
    "id": "0YHOvjAu5eiL",
    "outputId": "8a7beaba-0fae-4d64-9a70-5949a1a2b3d1"
   },
   "outputs": [],
   "source": [
    "import pandas as pd\n",
    "\n",
<<<<<<< HEAD
    "dataset = pd.read_pickle(r\"E:\\College\\Sem 6\\Mini Project\\dataset\\merged_training.pkl\")\n",
    "# dataset.to_csv(r'E:\\College\\Sem 6\\Mini Project\\dataset\\merged_dataset.csv')"
=======
    "dataset = pd.read_pickle(r\"E:\\College\\Sem 6\\Mini Project\\dataset\\merged_training.pkl\")\n"
>>>>>>> master
   ]
  },
  {
   "cell_type": "code",
<<<<<<< HEAD
   "execution_count": 3,
=======
   "execution_count": 115,
>>>>>>> master
   "metadata": {},
   "outputs": [
    {
     "data": {
      "text/html": [
       "<div>\n",
       "<style scoped>\n",
       "    .dataframe tbody tr th:only-of-type {\n",
       "        vertical-align: middle;\n",
       "    }\n",
       "\n",
       "    .dataframe tbody tr th {\n",
       "        vertical-align: top;\n",
       "    }\n",
       "\n",
       "    .dataframe thead th {\n",
       "        text-align: right;\n",
       "    }\n",
       "</style>\n",
       "<table border=\"1\" class=\"dataframe\">\n",
       "  <thead>\n",
       "    <tr style=\"text-align: right;\">\n",
       "      <th></th>\n",
       "      <th>text</th>\n",
       "      <th>emotions</th>\n",
       "    </tr>\n",
       "  </thead>\n",
       "  <tbody>\n",
       "    <tr>\n",
       "      <th>27383</th>\n",
       "      <td>i feel awful about it too because it s my job ...</td>\n",
       "      <td>sadness</td>\n",
       "    </tr>\n",
       "    <tr>\n",
       "      <th>110083</th>\n",
       "      <td>im alone i feel awful</td>\n",
       "      <td>sadness</td>\n",
       "    </tr>\n",
       "    <tr>\n",
       "      <th>140764</th>\n",
       "      <td>ive probably mentioned this before but i reall...</td>\n",
       "      <td>joy</td>\n",
       "    </tr>\n",
       "    <tr>\n",
       "      <th>100071</th>\n",
       "      <td>i was feeling a little low few days back</td>\n",
       "      <td>sadness</td>\n",
       "    </tr>\n",
       "    <tr>\n",
       "      <th>2837</th>\n",
       "      <td>i beleive that i am much more sensitive to oth...</td>\n",
       "      <td>love</td>\n",
       "    </tr>\n",
       "  </tbody>\n",
       "</table>\n",
       "</div>"
      ],
      "text/plain": [
       "                                                     text emotions\n",
       "27383   i feel awful about it too because it s my job ...  sadness\n",
       "110083                              im alone i feel awful  sadness\n",
       "140764  ive probably mentioned this before but i reall...      joy\n",
       "100071           i was feeling a little low few days back  sadness\n",
       "2837    i beleive that i am much more sensitive to oth...     love"
      ]
     },
<<<<<<< HEAD
     "execution_count": 3,
=======
     "execution_count": 115,
>>>>>>> master
     "metadata": {},
     "output_type": "execute_result"
    }
   ],
   "source": [
    "dataset.head()"
   ]
  },
  {
   "cell_type": "code",
<<<<<<< HEAD
   "execution_count": 4,
   "metadata": {},
   "outputs": [],
   "source": [
    "# # making first column as int datatype\n",
    "# dataset.iloc[:, 0] = dataset.iloc[:, 0].astype(int)"
   ]
  },
  {
   "cell_type": "code",
   "execution_count": 5,
=======
   "execution_count": 116,
>>>>>>> master
   "metadata": {
    "colab": {},
    "colab_type": "code",
    "id": "z7eCnxU25eiN"
   },
   "outputs": [
    {
     "name": "stdout",
     "output_type": "stream",
     "text": [
<<<<<<< HEAD
      "train set shape: (291765, 2)\n",
      "val set shape: (62522, 2)\n",
      "test set shape: (62522, 2)\n"
=======
      "train set shape: (333447, 2)\n",
      "val set shape: (41681, 2)\n",
      "test set shape: (41681, 2)\n"
>>>>>>> master
     ]
    }
   ],
   "source": [
    "import pandas as pd\n",
    "from sklearn.model_selection import train_test_split\n",
    "\n",
    "\n",
    "\n",
    "# Split the dataset into train, validation, and test sets\n",
<<<<<<< HEAD
    "train_ratio = 0.7\n",
    "val_ratio = 0.15\n",
    "test_ratio = 0.15\n",
=======
    "train_ratio = 0.8\n",
    "val_ratio = 0.1\n",
    "test_ratio = 0.1\n",
>>>>>>> master
    "\n",
    "# Split into train and remaining data\n",
    "train_val_df, test = train_test_split(dataset, test_size=test_ratio, random_state=42)\n",
    "\n",
    "# Split train_val_df into train and validation sets\n",
    "train, val = train_test_split(train_val_df, test_size=val_ratio/(train_ratio+val_ratio), random_state=42)\n",
    "\n",
    "# Rename the dataframes using a dictionary\n",
    "dataframes = {\n",
    "    'train': train,\n",
    "    'val': val,\n",
    "    'test': test\n",
    "}\n",
    "\n",
    "# Print the shapes of the resulting sets\n",
    "for name, df in dataframes.items():\n",
    "    print(f\"{name} set shape:\", df.shape)\n"
   ]
  },
  {
   "cell_type": "code",
<<<<<<< HEAD
   "execution_count": 6,
   "metadata": {},
   "outputs": [],
   "source": [
    "# train = dataset['train']\n",
    "# val = dataset['validation']\n",
    "# test = dataset['test']"
   ]
  },
  {
   "cell_type": "code",
   "execution_count": 7,
=======
   "execution_count": 117,
>>>>>>> master
   "metadata": {
    "colab": {},
    "colab_type": "code",
    "id": "oDYXMfZy5eiP"
   },
   "outputs": [],
   "source": [
    "def get_tweets(data):\n",
    "    tweets = data['text'].tolist()\n",
    "    labels = data['emotions'].tolist()\n",
    "    return tweets, labels\n"
   ]
  },
  {
   "cell_type": "code",
<<<<<<< HEAD
   "execution_count": 8,
=======
   "execution_count": 118,
>>>>>>> master
   "metadata": {
    "colab": {},
    "colab_type": "code",
    "id": "jeq3-vSB5eiR"
   },
   "outputs": [],
   "source": [
    "tweets, labels = get_tweets(train)"
   ]
  },
  {
   "cell_type": "code",
<<<<<<< HEAD
   "execution_count": 9,
=======
   "execution_count": 119,
>>>>>>> master
   "metadata": {
    "colab": {
     "base_uri": "https://localhost:8080/",
     "height": 50
    },
    "colab_type": "code",
    "id": "bHD3Tk0J5eiU",
    "outputId": "fef2a4a6-885e-4b9b-f0fa-703f25d5fb0d"
   },
   "outputs": [
    {
     "data": {
      "text/plain": [
<<<<<<< HEAD
       "('im the only one who feels annoyed', 'anger')"
      ]
     },
     "execution_count": 9,
=======
       "('i i feel as if no one wants to bring up secretary clinton or even before he resigned david petraeus because frankly they are seen as so popular in the nation s capital',\n",
       " 'sadness')"
      ]
     },
     "execution_count": 119,
>>>>>>> master
     "metadata": {},
     "output_type": "execute_result"
    }
   ],
   "source": [
    "tweets[0], labels[0]"
   ]
  },
  {
   "cell_type": "markdown",
   "metadata": {},
   "source": [
    "## Task 4: Tokenizer\n",
    "\n",
    "1. Tokenizing the tweets"
   ]
  },
  {
   "cell_type": "code",
<<<<<<< HEAD
   "execution_count": 10,
=======
   "execution_count": 120,
>>>>>>> master
   "metadata": {},
   "outputs": [],
   "source": [
    "from tensorflow.keras.preprocessing.text import Tokenizer"
   ]
  },
  {
   "cell_type": "code",
<<<<<<< HEAD
   "execution_count": 11,
=======
   "execution_count": 121,
>>>>>>> master
   "metadata": {
    "colab": {
     "base_uri": "https://localhost:8080/",
     "height": 34
    },
    "colab_type": "code",
    "id": "cckUvwBo5eif",
    "outputId": "8d71e463-a7a7-4150-f1b4-c4762abc7b95"
   },
   "outputs": [
    {
     "name": "stdout",
     "output_type": "stream",
     "text": [
<<<<<<< HEAD
      "[[17, 6, 116, 69, 74, 115, 404]]\n"
=======
      "[[2, 2, 3, 29, 52, 97, 68, 869, 5, 784, 42, 7977, 8865, 35, 74, 167, 65, 1307, 2637, 1, 37, 2058, 63, 46, 823, 29, 15, 564, 12, 6, 3003, 84, 5918]]\n"
>>>>>>> master
     ]
    }
   ],
   "source": [
    "tokenizer = Tokenizer(num_words=10000, oov_token='<UNK>')\n",
    "\n",
    "tokenizer.fit_on_texts(tweets)\n",
    "\n",
    "print(tokenizer.texts_to_sequences([tweets[0]]))"
   ]
  },
  {
<<<<<<< HEAD
=======
   "cell_type": "code",
   "execution_count": 122,
   "metadata": {},
   "outputs": [],
   "source": [
    "#SAVE THE STATE OF TOKENIZER\n",
    "import pickle\n",
    "\n",
    "# Save the tokenizer to a file\n",
    "with open('tokenizer.pkl', 'wb') as f:\n",
    "    pickle.dump(tokenizer, f)"
   ]
  },
  {
>>>>>>> master
   "cell_type": "markdown",
   "metadata": {},
   "source": [
    "## Task 5: Padding and Truncating Sequences\n",
    "\n",
    "1. Checking length of the tweets\n",
    "2. Creating padded sequences"
   ]
  },
  {
   "cell_type": "code",
<<<<<<< HEAD
   "execution_count": 12,
=======
   "execution_count": 123,
>>>>>>> master
   "metadata": {},
   "outputs": [
    {
     "data": {
<<<<<<< HEAD
      "image/png": "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",
=======
      "image/png": "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",
>>>>>>> master
      "text/plain": [
       "<Figure size 640x480 with 1 Axes>"
      ]
     },
     "metadata": {},
     "output_type": "display_data"
    }
   ],
   "source": [
    "lengths = [len(t.split(' ')) for t in tweets]\n",
    "\n",
    "plt.hist(lengths, bins=len(set(lengths)))\n",
    "plt.show()"
   ]
  },
  {
   "cell_type": "code",
<<<<<<< HEAD
   "execution_count": 13,
=======
   "execution_count": 124,
>>>>>>> master
   "metadata": {},
   "outputs": [],
   "source": [
    "from tensorflow.keras.preprocessing.sequence import pad_sequences"
   ]
  },
  {
   "cell_type": "code",
<<<<<<< HEAD
   "execution_count": 14,
=======
   "execution_count": 125,
>>>>>>> master
   "metadata": {
    "colab": {},
    "colab_type": "code",
    "id": "Q9J_Iemf5eiq"
   },
   "outputs": [],
   "source": [
    "def get_sequences(tokenizer, tweets):\n",
    "    sequences = tokenizer.texts_to_sequences(tweets)\n",
    "    padded_sequences = pad_sequences(sequences, truncating='post', maxlen=50, padding='post')\n",
    "    return padded_sequences"
   ]
  },
  {
   "cell_type": "code",
<<<<<<< HEAD
   "execution_count": 15,
=======
   "execution_count": 126,
>>>>>>> master
   "metadata": {
    "colab": {},
    "colab_type": "code",
    "id": "eglH77ky5ei0"
   },
   "outputs": [],
   "source": [
    "padded_train_sequences = get_sequences(tokenizer, tweets)"
   ]
  },
  {
   "cell_type": "code",
<<<<<<< HEAD
   "execution_count": 16,
=======
   "execution_count": 127,
>>>>>>> master
   "metadata": {
    "colab": {
     "base_uri": "https://localhost:8080/",
     "height": 101
    },
    "colab_type": "code",
    "id": "iGR473HA5ei7",
    "outputId": "081725b6-e345-4536-ceb6-9f2c6344054f"
   },
   "outputs": [
    {
     "data": {
      "text/plain": [
<<<<<<< HEAD
       "array([ 17,   6, 116,  69,  74, 115, 404,   0,   0,   0,   0,   0,   0,\n",
       "         0,   0,   0,   0,   0,   0,   0,   0,   0,   0,   0,   0,   0,\n",
       "         0,   0,   0,   0,   0,   0,   0,   0,   0,   0,   0,   0,   0,\n",
       "         0,   0,   0,   0,   0,   0,   0,   0,   0,   0,   0])"
      ]
     },
     "execution_count": 16,
=======
       "array([   2,    2,    3,   29,   52,   97,   68,  869,    5,  784,   42,\n",
       "       7977, 8865,   35,   74,  167,   65, 1307, 2637,    1,   37, 2058,\n",
       "         63,   46,  823,   29,   15,  564,   12,    6, 3003,   84, 5918,\n",
       "          0,    0,    0,    0,    0,    0,    0,    0,    0,    0,    0,\n",
       "          0,    0,    0,    0,    0,    0])"
      ]
     },
     "execution_count": 127,
>>>>>>> master
     "metadata": {},
     "output_type": "execute_result"
    }
   ],
   "source": [
    "padded_train_sequences[0]"
   ]
  },
  {
   "cell_type": "markdown",
   "metadata": {},
   "source": [
    "## Task 6: Preparing the Labels\n",
    "\n",
    "1. Creating classes to index and index to classes dictionaries\n",
    "2. Converting text labels to numeric labels"
   ]
  },
  {
   "cell_type": "code",
<<<<<<< HEAD
   "execution_count": 17,
=======
   "execution_count": 128,
>>>>>>> master
   "metadata": {
    "colab": {
     "base_uri": "https://localhost:8080/",
     "height": 34
    },
    "colab_type": "code",
    "id": "SufT2bpD5ejE",
    "outputId": "3b0ff532-55b7-45b8-8498-040b86029789"
   },
   "outputs": [
    {
     "name": "stdout",
     "output_type": "stream",
     "text": [
<<<<<<< HEAD
      "{'anger', 'surprise', 'sadness', 'fear', 'love', 'joy'}\n"
=======
      "{'love', 'sadness', 'fear', 'surprise', 'joy', 'anger'}\n"
>>>>>>> master
     ]
    }
   ],
   "source": [
    "classes = set(labels)\n",
    "print(classes)"
   ]
  },
  {
   "cell_type": "code",
<<<<<<< HEAD
   "execution_count": 18,
=======
   "execution_count": 129,
>>>>>>> master
   "metadata": {
    "colab": {
     "base_uri": "https://localhost:8080/",
     "height": 265
    },
    "colab_type": "code",
    "id": "rpwzL88I7YSm",
    "outputId": "df513fa4-49a3-435c-f57d-3ad6715a1583"
   },
   "outputs": [
    {
     "data": {
<<<<<<< HEAD
      "image/png": "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",
=======
      "image/png": "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",
>>>>>>> master
      "text/plain": [
       "<Figure size 640x480 with 1 Axes>"
      ]
     },
     "metadata": {},
     "output_type": "display_data"
    }
   ],
   "source": [
    "plt.hist(labels, bins=11)\n",
    "plt.show()"
   ]
  },
  {
   "cell_type": "code",
<<<<<<< HEAD
   "execution_count": 19,
=======
   "execution_count": 130,
>>>>>>> master
   "metadata": {
    "colab": {},
    "colab_type": "code",
    "id": "dNLF6rXL5ejN"
   },
   "outputs": [],
   "source": [
    "emotion_sequence = ['anger', 'fear', 'sadness', 'surprise', 'joy', 'love']\n",
    "\n",
    "classes_to_index = {c: i for i, c in enumerate(emotion_sequence)}\n",
    "index_to_classes = {i: c for i, c in enumerate(emotion_sequence)}\n"
   ]
  },
  {
   "cell_type": "code",
<<<<<<< HEAD
   "execution_count": 20,
=======
   "execution_count": 131,
>>>>>>> master
   "metadata": {
    "colab": {
     "base_uri": "https://localhost:8080/",
     "height": 34
    },
    "colab_type": "code",
    "id": "_08InVyM5ejc",
    "outputId": "fd4b044c-0e32-4c45-86b3-9b9cac4458d1"
   },
   "outputs": [
    {
     "data": {
      "text/plain": [
       "{'anger': 0, 'fear': 1, 'sadness': 2, 'surprise': 3, 'joy': 4, 'love': 5}"
      ]
     },
<<<<<<< HEAD
     "execution_count": 20,
=======
     "execution_count": 131,
>>>>>>> master
     "metadata": {},
     "output_type": "execute_result"
    }
   ],
   "source": [
    "classes_to_index"
   ]
  },
  {
   "cell_type": "code",
<<<<<<< HEAD
   "execution_count": 21,
=======
   "execution_count": 132,
>>>>>>> master
   "metadata": {},
   "outputs": [
    {
     "data": {
      "text/plain": [
       "{0: 'anger', 1: 'fear', 2: 'sadness', 3: 'surprise', 4: 'joy', 5: 'love'}"
      ]
     },
<<<<<<< HEAD
     "execution_count": 21,
=======
     "execution_count": 132,
>>>>>>> master
     "metadata": {},
     "output_type": "execute_result"
    }
   ],
   "source": [
    "index_to_classes"
   ]
  },
  {
   "cell_type": "code",
<<<<<<< HEAD
   "execution_count": 22,
=======
   "execution_count": 133,
>>>>>>> master
   "metadata": {
    "colab": {},
    "colab_type": "code",
    "id": "Jq0WJYsP5ejR"
   },
   "outputs": [],
   "source": [
    "names_to_ids = lambda labels: np.array([classes_to_index.get(x) for x in labels])"
   ]
  },
  {
   "cell_type": "code",
<<<<<<< HEAD
   "execution_count": 23,
=======
   "execution_count": 134,
>>>>>>> master
   "metadata": {
    "colab": {
     "base_uri": "https://localhost:8080/",
     "height": 34
    },
    "colab_type": "code",
    "id": "v15KnrNC5ejW",
    "outputId": "2e5205b7-4cb3-4383-aeb9-0ac81a95092f"
   },
   "outputs": [
    {
     "name": "stdout",
     "output_type": "stream",
     "text": [
<<<<<<< HEAD
      "0\n"
=======
      "2\n"
>>>>>>> master
     ]
    }
   ],
   "source": [
    "train_labels = names_to_ids(labels)\n",
    "print(train_labels[0])"
   ]
  },
  {
   "cell_type": "markdown",
   "metadata": {},
   "source": [
    "## Task 7: Creating the Model\n",
    "\n",
    "1. Creating the model\n",
    "2. Compiling the model"
   ]
  },
  {
   "cell_type": "code",
<<<<<<< HEAD
   "execution_count": 24,
=======
   "execution_count": 135,
>>>>>>> master
   "metadata": {
    "colab": {
     "base_uri": "https://localhost:8080/",
     "height": 286
    },
    "colab_type": "code",
    "id": "OpewXxPQ5eji",
    "outputId": "b0c61e65-fb96-4f58-aa5b-94dfaadd0b3c"
   },
   "outputs": [
    {
     "name": "stdout",
     "output_type": "stream",
     "text": [
<<<<<<< HEAD
      "Model: \"sequential\"\n",
      "_________________________________________________________________\n",
      " Layer (type)                Output Shape              Param #   \n",
      "=================================================================\n",
      " embedding (Embedding)       (None, 50, 16)            160000    \n",
      "                                                                 \n",
      " bidirectional (Bidirectiona  (None, 50, 40)           5920      \n",
      " l)                                                              \n",
      "                                                                 \n",
      " bidirectional_1 (Bidirectio  (None, 40)               9760      \n",
      " nal)                                                            \n",
      "                                                                 \n",
      " dense (Dense)               (None, 6)                 246       \n",
=======
      "Model: \"sequential_2\"\n",
      "_________________________________________________________________\n",
      " Layer (type)                Output Shape              Param #   \n",
      "=================================================================\n",
      " embedding_2 (Embedding)     (None, 50, 16)            160000    \n",
      "                                                                 \n",
      " bidirectional_4 (Bidirectio  (None, 50, 40)           5920      \n",
      " nal)                                                            \n",
      "                                                                 \n",
      " bidirectional_5 (Bidirectio  (None, 40)               9760      \n",
      " nal)                                                            \n",
      "                                                                 \n",
      " dense_2 (Dense)             (None, 6)                 246       \n",
>>>>>>> master
      "                                                                 \n",
      "=================================================================\n",
      "Total params: 175,926\n",
      "Trainable params: 175,926\n",
      "Non-trainable params: 0\n",
      "_________________________________________________________________\n"
     ]
    }
   ],
   "source": [
    "model = tf.keras.models.Sequential([\n",
    "    tf.keras.layers.Embedding(10000, 16, input_length=50),\n",
    "    tf.keras.layers.Bidirectional(tf.keras.layers.LSTM(20, return_sequences=True)),\n",
    "    tf.keras.layers.Bidirectional(tf.keras.layers.LSTM(20)),\n",
    "    tf.keras.layers.Dense(6, activation='softmax')\n",
    "])\n",
    "\n",
    "model.compile(\n",
    "    loss='sparse_categorical_crossentropy',\n",
    "    optimizer='adam',\n",
    "    metrics=['accuracy']\n",
    ")\n",
    "\n",
    "model.summary()"
   ]
  },
  {
   "cell_type": "markdown",
   "metadata": {},
   "source": [
    "## Task 8: Training the Model\n",
    "\n",
    "1. Preparing a validation set\n",
    "2. Training the model"
   ]
  },
  {
   "cell_type": "code",
<<<<<<< HEAD
   "execution_count": 25,
=======
   "execution_count": 136,
>>>>>>> master
   "metadata": {
    "colab": {},
    "colab_type": "code",
    "id": "Ff7F3hCK5ejm"
   },
   "outputs": [],
   "source": [
    "val_tweets, val_labels = get_tweets(val)\n",
    "val_sequences = get_sequences(tokenizer, val_tweets)\n",
    "val_labels = names_to_ids(val_labels)"
   ]
  },
  {
   "cell_type": "code",
<<<<<<< HEAD
   "execution_count": 26,
=======
   "execution_count": 137,
>>>>>>> master
   "metadata": {
    "colab": {
     "base_uri": "https://localhost:8080/",
     "height": 34
    },
    "colab_type": "code",
    "id": "hlMKaZ3H5ejr",
    "outputId": "c37c302d-489c-49a3-cec3-8b27e2aaaffc"
   },
   "outputs": [
    {
     "data": {
      "text/plain": [
<<<<<<< HEAD
       "('i cried out of feelings of guilt for being unkind and was reassured temporarily',\n",
       " 0)"
      ]
     },
     "execution_count": 26,
=======
       "('i have begun the summer feeling rather dull and like a failure without real reason',\n",
       " 2)"
      ]
     },
     "execution_count": 137,
>>>>>>> master
     "metadata": {},
     "output_type": "execute_result"
    }
   ],
   "source": [
    "val_tweets[0], val_labels[0]"
   ]
  },
  {
   "cell_type": "code",
<<<<<<< HEAD
   "execution_count": 27,
=======
   "execution_count": 138,
>>>>>>> master
   "metadata": {
    "colab": {
     "base_uri": "https://localhost:8080/",
     "height": 454
    },
    "colab_type": "code",
    "id": "bzBqnWQ-5ejw",
    "outputId": "499ededc-0e2e-4f06-d59a-15350da7da31"
   },
   "outputs": [
    {
     "name": "stdout",
     "output_type": "stream",
     "text": [
      "Epoch 1/20\n",
<<<<<<< HEAD
      "9118/9118 [==============================] - 372s 40ms/step - loss: 0.3065 - accuracy: 0.8758 - val_loss: 0.1289 - val_accuracy: 0.9312\n",
      "Epoch 2/20\n",
      "9118/9118 [==============================] - 385s 42ms/step - loss: 0.1112 - accuracy: 0.9361 - val_loss: 0.1019 - val_accuracy: 0.9371\n",
      "Epoch 3/20\n",
      "9118/9118 [==============================] - 386s 42ms/step - loss: 0.0959 - accuracy: 0.9401 - val_loss: 0.0968 - val_accuracy: 0.9394\n",
      "Epoch 4/20\n",
      "9118/9118 [==============================] - 369s 40ms/step - loss: 0.0908 - accuracy: 0.9412 - val_loss: 0.0979 - val_accuracy: 0.9393\n",
      "Epoch 5/20\n",
      "9118/9118 [==============================] - 383s 42ms/step - loss: 0.0889 - accuracy: 0.9420 - val_loss: 0.0980 - val_accuracy: 0.9388\n"
=======
      "10421/10421 [==============================] - 388s 37ms/step - loss: 0.2767 - accuracy: 0.8887 - val_loss: 0.1318 - val_accuracy: 0.9306\n",
      "Epoch 2/20\n",
      "10421/10421 [==============================] - 383s 37ms/step - loss: 0.1046 - accuracy: 0.9377 - val_loss: 0.1013 - val_accuracy: 0.9376\n",
      "Epoch 3/20\n",
      "10421/10421 [==============================] - 371s 36ms/step - loss: 0.0925 - accuracy: 0.9403 - val_loss: 0.0971 - val_accuracy: 0.9376\n",
      "Epoch 4/20\n",
      "10421/10421 [==============================] - 378s 36ms/step - loss: 0.0891 - accuracy: 0.9413 - val_loss: 0.0994 - val_accuracy: 0.9379\n",
      "Epoch 5/20\n",
      "10421/10421 [==============================] - 392s 38ms/step - loss: 0.0868 - accuracy: 0.9422 - val_loss: 0.0950 - val_accuracy: 0.9372\n",
      "Epoch 6/20\n",
      "10421/10421 [==============================] - 407s 39ms/step - loss: 0.0853 - accuracy: 0.9430 - val_loss: 0.0965 - val_accuracy: 0.9348\n"
>>>>>>> master
     ]
    }
   ],
   "source": [
    "h = model.fit(\n",
    "    padded_train_sequences, train_labels,\n",
    "    validation_data=(val_sequences, val_labels),\n",
    "    epochs=20,\n",
    "    callbacks=[\n",
    "        tf.keras.callbacks.EarlyStopping(monitor='val_accuracy', patience=2)\n",
    "    ]\n",
    ")"
   ]
  },
  {
   "cell_type": "markdown",
   "metadata": {},
   "source": [
    "## Task 9: Evaluating the Model\n",
    "\n",
    "1. Visualizing training history\n",
    "2. Prepraring a test set\n",
    "3. A look at individual predictions on the test set\n",
    "4. A look at all predictions on the test set"
   ]
  },
  {
   "cell_type": "code",
<<<<<<< HEAD
   "execution_count": 28,
=======
   "execution_count": 139,
>>>>>>> master
   "metadata": {},
   "outputs": [
    {
     "data": {
<<<<<<< HEAD
      "image/png": "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",
=======
      "image/png": "iVBORw0KGgoAAAANSUhEUgAABR8AAAISCAYAAABF+LiMAAAAOXRFWHRTb2Z0d2FyZQBNYXRwbG90bGliIHZlcnNpb24zLjcuMSwgaHR0cHM6Ly9tYXRwbG90bGliLm9yZy/bCgiHAAAACXBIWXMAAA9hAAAPYQGoP6dpAACZX0lEQVR4nOzdeXhU5f3+8XtmspF9JQsEAkkQUNkhIglqjWK1KootohakVlsrVkj9FqkKiq2gIqUKyq8ooq0WqlVrq8UlFQkQwYK4CwlbWJKQBJIhCdlm5vfHJENCFhJIcjLJ+3Vd5yJz5jnnfM4MrSc3z2JyOBwOAQAAAAAAAEA7MxtdAAAAAAAAAIDuifARAAAAAAAAQIcgfAQAAAAAAADQIQgfAQAAAAAAAHQIwkcAAAAAAAAAHYLwEQAAAAAAAECHIHwEAAAAAAAA0CEIHwEAAAAAAAB0CMJHAAAAAAAAAB2C8BEAAAAAAABAhzA0fNy4caOuvfZaxcTEyGQy6e233z7jMRs2bNCoUaPk7e2thIQErVmzpsPrBAAAAAAAANB2hoaPZWVlGj58uFasWNGq9vv27dM111yjyy67TDt37tTs2bP185//XO+//34HVwoAAAAAAACgrUwOh8NhdBGSZDKZ9NZbb2ny5MnNtpk7d67effddff311659N998s4qLi7V+/fpOqBIAAAAAAABAa3kYXUBbZGZmKjU1tcG+SZMmafbs2c0eU1lZqcrKStdru92uY8eOKSwsTCaTqaNKBQAA6DAOh0MnTpxQTEyMzGam8HZHdrtdR44cUUBAAM+kAADA7bTledStwse8vDxFRkY22BcZGSmr1aqTJ0+qV69ejY5ZtGiRHn300c4qEQAAoNMcPHhQffv2NboMnIUjR44oNjbW6DIAAADOSWueR90qfDwb8+bNU1pamut1SUmJ+vXrp4MHDyowMNDAygAAAM6O1WpVbGysAgICjC4FZ6nuu+OZFAAAuKO2PI+6VfgYFRWl/Pz8Bvvy8/MVGBjYZK9HSfL29pa3t3ej/YGBgTzoAQAAt8ZwXfdV993xTAoAANxZa55H3WqSoPHjxys9Pb3Bvg8//FDjx483qCIAAAAAAAAAzTE0fCwtLdXOnTu1c+dOSdK+ffu0c+dO5eTkSHIOmZ4+fbqr/S9/+Uvt3btXv/3tb/X999/rueee09///nfNmTPHiPIBAAAAAAAAtMDQ8PF///ufRo4cqZEjR0qS0tLSNHLkSM2fP1+SlJub6woiJWnAgAF699139eGHH2r48OF6+umn9cILL2jSpEmG1A8AAAAAAACgeSaHw+EwuojOZLVaFRQUpJKSEubXAQAAbonnGffHdwgA6G4cDodqampks9mMLgXtxNPTUxaLpcn32vIs41YLzgAAAAAAAKBrqaqqUm5ursrLy40uBe3IZDKpb9++8vf3P6fzED4CAAAAAADgrNjtdu3bt08Wi0UxMTHy8vJq1QrI6NocDocKCgp06NAhJSYmNtsDsjUIHwEAAAAAAHBWqqqqZLfbFRsbK19fX6PLQTuKiIjQ/v37VV1dfU7ho6ELzgAAAAAAAMD9mc1ETN1Ne/Vg5W8GAAAAAAAAgA5B+AgAAAAAAACgQxA+AgAAAAAAAO0gLi5Oy5Yta3X7DRs2yGQyqbi4uMNqMhrhIwAAAAAAAHoUk8nU4vbII4+c1Xk/++wz3XXXXa1uf/HFFys3N1dBQUFndT13wGrXAAAAAAAA6FFyc3NdP69bt07z58/Xrl27XPv8/f1dPzscDtlsNnl4nDlGi4iIaFMdXl5eioqKatMx7oaejwAAAAAAAGg3DodD5VU1hmwOh6NVNUZFRbm2oKAgmUwm1+vvv/9eAQEB+s9//qPRo0fL29tbmzZt0p49e3T99dcrMjJS/v7+Gjt2rD766KMG5z192LXJZNILL7ygG264Qb6+vkpMTNQ777zjev/0Yddr1qxRcHCw3n//fQ0ZMkT+/v666qqrGoSlNTU1+vWvf63g4GCFhYVp7ty5mjFjhiZPnnzW31lHoucjAAAAAAAA2s3JapuGzn/fkGt/u3CSfL3aJ+564IEHtGTJEg0cOFAhISE6ePCgrr76av3hD3+Qt7e3XnnlFV177bXatWuX+vXr1+x5Hn30UT355JN66qmn9Oyzz+rWW2/VgQMHFBoa2mT78vJyLVmyRH/5y19kNpt122236f7779err74qSXriiSf06quv6qWXXtKQIUP0pz/9SW+//bYuu+yydrnv9kbPRwAAAAAAAOA0Cxcu1BVXXKH4+HiFhoZq+PDh+sUvfqELLrhAiYmJeuyxxxQfH9+gJ2NTbr/9dk2bNk0JCQl6/PHHVVpaqm3btjXbvrq6WitXrtSYMWM0atQozZo1S+np6a73n332Wc2bN0833HCDBg8erOXLlys4OLi9brvd0fMRAAAA6GYcDof2FJRpU1aBpo7tp15eFqNLAgD0IL08Lfp24STDrt1exowZ0+B1aWmpHnnkEb377rvKzc1VTU2NTp48qZycnBbPM2zYMNfPfn5+CgwM1NGjR5tt7+vrq/j4eNfr6OhoV/uSkhLl5+dr3LhxrvctFotGjx4tu93epvvrLISPAAAAQDc0Y/U2HS4+qQER/rpkUNsmvwcA4FyYTKZ2G/psJD8/vwav77//fn344YdasmSJEhIS1KtXL910002qqqpq8Tyenp4NXptMphaDwqbat3Yuy66IYdcAAABwWytWrFBcXJx8fHyUlJTU4hCmVatWKSUlRSEhIQoJCVFqamqj9iaTqcntqaeecrWJi4tr9P7ixYs77B7PhslkUnJCuCQpY3eBwdUAANA9bN68WbfffrtuuOEGXXjhhYqKitL+/fs7tYagoCBFRkbqs88+c+2z2WzasWNHp9bRFoSPAAAAcEvr1q1TWlqaFixYoB07dmj48OGaNGlSs8OYNmzYoGnTpunjjz9WZmamYmNjdeWVV+rw4cOuNrm5uQ221atXy2QyacqUKQ3OtXDhwgbt7r333g6917ORMsgZPm7KLjS4EgAAuofExES9+eab2rlzp7744gvdcssthgx1vvfee7Vo0SL985//1K5du3Tffffp+PHjMplMnV5La7h/H1gAAAD0SEuXLtWdd96pmTNnSpJWrlypd999V6tXr9YDDzzQqH3dCpF1XnjhBf3jH/9Qenq6pk+fLkmKiopq0Oaf//ynLrvsMg0cOLDB/oCAgEZtW1JZWanKykrXa6vV2upjz9aE+HCZTNL3eSd01Fqh3oE+HX5NAAC6s6VLl+pnP/uZLr74YoWHh2vu3Lmd8t/0082dO1d5eXmaPn26LBaL7rrrLk2aNEkWS9ec49nkcOdB42fBarUqKChIJSUlCgwMNLocAACANuN5RqqqqpKvr6/eeOMNTZ482bV/xowZKi4u1j//+c8znuPEiRPq3bu3Xn/9df3oRz9q9H5+fr769u2rl19+Wbfccotrf1xcnCoqKlRdXa1+/frplltu0Zw5c+Th0fy/6z/yyCN69NFHG+3v6O/wuuWb9OWhEi39yXDdOKpvh10HANBzVVRUaN++fRowYIB8fPiHLiPY7XYNGTJEP/nJT/TYY4+123lb+m7b8jxKz0cA6GQOh0MOh+SQZHf97PzT+b7ztd1R27Z2n5rZ73C+4dyvU+d2Xaep/afV0aCNw1mXTt/f0rFN1NPovLX3q9Ou1fC8ktS4rrp7blTTacfXP/fpn4fq19ig3obntp92L6e+l2Y+r9oDG3/+p38WzX3eja/X6LNo9nOsV9tp93P659H093n65137OTTz2dT/3GuPrPcZNP13RfXOpabu1XWuZq512rl02r6mztX4M2n6nutf9/S/G/Wv0/Azaf6e6193+bRRumZYtNBxCgsLZbPZFBkZ2WB/ZGSkvv/++1adY+7cuYqJiVFqamqT77/88ssKCAjQjTfe2GD/r3/9a40aNUqhoaHasmWL5s2bp9zcXC1durTZa82bN09paWmu11arVbGxsa2q81wkJ4Try0Ml2pRVSPgIAEA3ceDAAX3wwQe65JJLVFlZqeXLl2vfvn0N/rG0KyF8BLoQu90hm8Mhm90hu+vPU/sbvG9Xo7YNj3PIZlfD9+vOUbvP7lAzx6tR24bHq0E9de0a7Kuru8H+pvbVq8fe9C/2jcM2NQ57GgU8TQVmzQcWzQcVTZ+nfvhz+v6mQom6kBFAz1AvLkUXtXjxYq1du1YbNmxotpfG6tWrdeuttzZ6v36IOGzYMHl5eekXv/iFFi1aJG9v7ybP5e3t3ex7HSklMULPbdijjOxCORyOLjsXFAAAaD2z2aw1a9bo/vvvl8Ph0AUXXKCPPvpIQ4YMMbq0JhE+wv3YbVJNhVRTWftn/Z8rpeqTDV/XVMheXaGiEqvyio6r5ESZbI6GoZKr95lDstfrjdQo3Kq3z35aaGWvd87653AGUqfOY28QVDW85tloj19vHY62/yJikmSp3Zx1tO8vM6Z6d2Yy1fu5QStHk+1Pb2dqpl1zbVp7nRaPr6vZ1LpaTtemmk2SWQ5JJtf7pnrXNbs+P5OzXe0b5lMnarD6mMlV/6nzOX8wnbqKqe47N7ku2PD1qSs4ZHIWVFdYvXaOutem+ndnqteu3jGm+tevvXuTWSbVfUOnjqv75bru2qZG52m8z/my3n24jqu9F1P9Ok/9bKq7Xt2xja53qmbXtera1Du2wf3W3lddTTKZ5ag9j6n+PZrMcpjMcpgszs/S5CGHySyZzZIsktn5nkxmOcwW588yn9pvtjj/VpjNkskih9n5vvMcFsnkPIeznUUm86nPqeHfNZPr4zHVfS71/g7Wta+7VZPrc2n5XGp0blO9do2vVf86rm/H1MS5Tae9d4Zzub6t+uc67f3655JJCvTxFDpWeHi4LBaL8vPzG+zPz88/41yMS5Ys0eLFi/XRRx9p2LBhTbbJyMjQrl27tG7dujPWkpSUpJqaGu3fv1/nnXde62+iE4zqH6xenhYVnKjUrvwTGhzVM4fpAwDQncTGxmrz5s1Gl9FqhI9oO4dDslU3EQA2EwhWNxEQuv5sHBSe8Th7dZtLNkuKqN26jHpZA2CopjJQOm2hSaZ6oaQz1HQFlM3taxBk1r1/+j6LM8VrtM/czLnrn9fc8BizuYl9tedvtO+0WtqzVo9YyTPY6C+sW/Py8tLo0aOVnp7umvPRbrcrPT1ds2bNava4J598Un/4wx/0/vvva8yYMc22e/HFFzV69GgNHz78jLXs3LlTZrNZvXv3bvN9dDRvD4suGhiqj3cVKGN3IeEjAADodISP7spub7rXX5tCvaaObeGc9XsUdpVkwuwhh0cv2cxeqpSnyu0eOlFjkbXGokp5qdLh6fxTnqoxecnf30+Bfn6yWMzOPlkmk8yn9YKp681irtcLxlzbvcWshj1uTK59DXv91D+XuVFvm7prOOodV3udeuc11T9v3etGH0A7fA/tMha4nepoNBSs3usG753Wrrn3zvmY08tpj/O1or4O/RxOf6+Z/acf53DI9T27xpW7Zrk77X3HGfaddkzDifraeExrrtOWettynTbU2+rPpaVzNrHPYZccNuef9tqf7bYz7Kv/52k/n5FDstdIqpFa07wnu2m1dMEUo6vo9tLS0jRjxgyNGTNG48aN07Jly1RWVuZa/Xr69Onq06ePFi1aJEl64oknNH/+fL322muKi4tTXl6eJMnf31/+/v6u81qtVr3++ut6+umnG10zMzNTW7du1WWXXaaAgABlZmZqzpw5uu222xQSEtIJd912yYkRzvAxu1B3Thx45gMAAADaEeFjR6gql4583rogsJlhwmcMA21VRt/lKR4+kod3vT97nfa63p+ePrWvm3iv2f3ekuepcxZXmfVFXoW2Hy7T9oMn9MXBEpVW1jQqKy7MVyP7hWhUv2CN7BeiwVEB8rCYm7gBAICkU2Fl/UCyLqxstK8NAafrHLbT2p/2c6N9dX86mtjXVE1new17+1/X09fob7NHmDp1qgoKCjR//nzl5eVpxIgRWr9+vWsRmpycHJnNp/7b//zzz6uqqko33XRTg/MsWLBAjzzyiOv12rVr5XA4NG3atEbX9Pb21tq1a/XII4+osrJSAwYM0Jw5cxrMA9nVpCSGS5K27i1SRbVNPp6WMxwBAADQfkwOR/3uFt1fW5YCP2sFu6UVYzvm3E0xmZ2Bn2cL4V2rAkHv0wLAVhxj8Wq5p9g5qrHZtTu/VDtyjuvznGJ9nnNcewvLGrXz9bJoeN9gjeofrFH9QjQiNlhh/p0/qTsAAJ2hU55n0KE68zt0OBy6aFG68q2VevXnSZqQEN6h1wMA9CwVFRXat2+fBgwY0OwibnBPLX23bXmWoedjR/Dyk8IS26WXX/PH1dtn6T5fY1FppTNkPHhcOw4U64tDxSqvajy2b2C4n7NXY/9gjYwN0XlRAbKYmUARAADgdCaTSckJEfrHjkPamFVA+AgAADpV90mtupKgPtK9/zO6ii6vxmbX93kn9HnOce2o7dW4v6i8UTt/bw+NiA12DZ8eERusED8vAyoGAABwTxMHhesfOw5pU1ah9EOjqwEAAD0J4SM6TcGJygZB45eHSnSyunGvxoTe/hoZG6xR/UM0ql+IEnr706sRAADgHNT1dvzmiFWFpZUKZ3oaAADO2aWXXqoRI0Zo2bJlkqS4uDjNnj1bs2fPbvYYk8mkt956S5MnTz6na7fXeToD4SM6RLXNru9yrdpx4Lg+P1isHTnHdfDYyUbtAnzqejWGaFT/EI3oG6wgX08DKgYAAOi+wv29NTQ6UN/mWrU5u1DXj+hjdEkAABjq2muvVXV1tdavX9/ovYyMDE2cOFFffPGFhg0b1upzfvbZZ/Lz82vPMvXII4/o7bff1s6dOxvsz83NVUhISLteq6MQPqJdHLVWuBaF2VHbq7Gyxt6gjckkJfb2dwaN/UI0sl+w4iP8ZaZXIwAAQIdLSQzXt7lWZWQRPgIAcMcdd2jKlCk6dOiQ+vbt2+C9l156SWPGjGlT8ChJERER7Vlii6KiojrtWufKbHQBcD9VNXbtPFis1Zv2adZrOzRh8X817vF0/fKvO/T/Nu7VZ/uPq7LGrqBenrr0vAilXTFIf7ljnL5YcKU+mHOJFk8Zpp+MjVViZADBIwAAQCdJSXT+QrQpq1AOh8PgagAA3ZrDIVWVGbO18r9xP/rRjxQREaE1a9Y02F9aWqrXX39dkydP1rRp09SnTx/5+vrqwgsv1N/+9rcWzxkXF+cagi1JWVlZmjhxonx8fDR06FB9+OGHjY6ZO3euBg0aJF9fXw0cOFAPP/ywqqurJUlr1qzRo48+qi+++EImk0kmk8lVr8lk0ttvv+06z1dffaUf/OAH6tWrl8LCwnTXXXeptLTU9f7tt9+uyZMna8mSJYqOjlZYWJjuuece17U6Ej0fcUZ5Jc5ejXVDqL86XKKq03o1mk3SoMgA5wrU/ZzzNQ4I8yNcBAAA6CLGxIXI28OsPGuF9hSUKqF3gNElAQC6q+py6fEYY679uyOS15mHPnt4eGj69Olas2aNHnzwQZlMzvzi9ddfl81m02233abXX39dc+fOVWBgoN5991399Kc/VXx8vMaNG3fG89vtdt14442KjIzU1q1bVVJS0uRckAEBAVqzZo1iYmL01Vdf6c4771RAQIB++9vfaurUqfr666+1fv16ffTRR5KkoKCgRucoKyvTpEmTNH78eH322Wc6evSofv7zn2vWrFkNwtWPP/5Y0dHR+vjjj5Wdna2pU6dqxIgRuvPOO894P+eC8BENVNbY9PVhqz6vN4Q6t6SiUbsQX89TQWO/EA2LDZa/N3+dAAAAuiofT4vGDQhVRlahNu4uJHwEAPR4P/vZz/TUU0/pk08+0aWXXirJOeR6ypQp6t+/v+6//35X23vvvVfvv/++/v73v7cqfPzoo4/0/fff6/3331dMjDOIffzxx/XDH/6wQbuHHnrI9XNcXJzuv/9+rV27Vr/97W/Vq1cv+fv7y8PDo8Vh1q+99poqKir0yiuvuOacXL58ua699lo98cQTioyMlCSFhIRo+fLlslgsGjx4sK655hqlp6cTPqLjOBwOHSmpcK5AfcAZNH57xKoqW+NejYOjAjWqf3DtXI0higvzdf2rAAAAANxDSmK4MrIKtSm7UD9LHmB0OQCA7srT19kD0ahrt9LgwYN18cUXa/Xq1br00kuVnZ2tjIwMLVy4UDabTY8//rj+/ve/6/Dhw6qqqlJlZaV8fVt3/u+++06xsbGu4FGSxo8f36jdunXr9Mwzz2jPnj0qLS1VTU2NAgMDW30PddcaPnx4g8VuJkyYILvdrl27drnCx/PPP18Wi8XVJjo6Wl999VWbrnU2CB97kIpqm74+XFI7hLpYnx88rnxrZaN2YX5eGlm7IMyofiEa1jdIfvRqBAAAcHvOeR+/16d7i1RVY5eXB1PAAwA6gMnUqqHPXcEdd9yhe++9VytWrNBLL72k+Ph4XXLJJXriiSf0pz/9ScuWLdOFF14oPz8/zZ49W1VVVe127czMTN1666169NFHNWnSJAUFBWnt2rV6+umn2+0a9Xl6ejZ4bTKZZLfbm2ndfkiUuimHw6FDx0+6VqD+POe4vs21qtrWcOJVi9mkodGBGtUvuHYYdYhiQ3vRqxEAAKAbGhwVoHB/bxWWVmpHznFdNDDM6JIAADDUT37yE91333167bXX9Morr+juu++WyWTS5s2bdf311+u2226T5JzDcffu3Ro6dGirzjtkyBAdPHhQubm5io6OliR9+umnDdps2bJF/fv314MPPujad+DAgQZtvLy8ZLPZznitNWvWqKyszNX7cfPmzTKbzTrvvPNaVW9HInzsJk5W2fTloWJ9frDYtTBMwYnGvRrD/b1dC8KM6heiC/sEqZeXpYkzAgAAoLsxmUxKSQzXW58fVkZWAeEjAKDH8/f319SpUzVv3jxZrVbdfvvtkqTExES98cYb2rJli0JCQrR06VLl5+e3OnxMTU3VoEGDNGPGDD311FOyWq0NQsa6a+Tk5Gjt2rUaO3as3n33Xb311lsN2sTFxWnfvn3auXOn+vbtq4CAAHl7ezdoc+utt2rBggWaMWOGHnnkERUUFOjee+/VT3/6U9eQayMRProhh8OhnGPlrgVhPs8p1ne5VtXYG/Zq9DCbdH5MoLNHY/8QjYwNVt8QejUCAAD0ZMkJzvBxU1ah/m+S0dUAAGC8O+64Qy+++KKuvvpq1xyNDz30kPbu3atJkybJ19dXd911lyZPnqySkpJWndNsNuutt97SHXfcoXHjxikuLk7PPPOMrrrqKleb6667TnPmzNGsWbNUWVmpa665Rg8//LAeeeQRV5spU6bozTff1GWXXabi4mK99NJLroC0jq+vr95//33dd999Gjt2rHx9fTVlyhQtXbr0nD+b9mByOByOMzfrPqxWq4KCglRSUtLmCTyNUl5Voy8OlriCxp0Hj6uwtPEcA5GB3hpVO3R6ZL9gXdAnSD6e9GoEAKC7ccfnGTRk5HeYb61Q0uPpMpmkHQ9doRA/r069PgCge6moqNC+ffs0YMAA+fj4GF0O2lFL321bnmXo+djFOBwO7S8qrx067VwYZlf+CdlO69XoZTHr/D6BGhkb4lqFOjrIh16NAAAAaFFkoI/OiwzQrvwT2rKnSNcMiza6JAAA0I0RPhqstLJGXxx0Lgizo3ZhmOPl1Y3axQT5nFqBun+Izo8JlLcHvRoBAADQdsmJ4dqVf0IZWQWEjwAAoEMRPnYiu92hfUVl2nHgVNC4O/+ETuvUKC8Psy7sE+RcGKZfiEb2C1FUEF2XAQAA0D5SEsP14qZ9ysgqlMPhYPQMAADoMISPHchaUa0vDhZrx4FifX7QOV9jycnGvRr7BPeqXX06WCP7hWhodKC8PMwGVAwAAICeIGlAmLwsZh0uPql9hWUaGOFvdEkAAKCbInzsAF8fLlHa33cq62ipTl/Ox8fTrGF9gjWyNmgc1S9YvQPp1QgAAIDO08vLojFxIdqyp0ibsgsJHwEA56yHrWfcI7TXd0r42AF6B3hrd36pJKlfqK+rR+OofiEaHB0gTwu9GgEAAGCs5MRwbdlTpI27CzV9fJzR5QAA3JSnp6ckqby8XL169TK4GrSnqqoqSZLFcm5rjhA+doDegT56aeZYXRATpIgAb6PLAQAAABqZmBihJ9fv0qd7i1Rts/MP5ACAs2KxWBQcHKyjR49Kknx9fZlLuBuw2+0qKCiQr6+vPDzOLT4kfOwgl53X2+gSAAAAgGYNjQ5UqJ+XjpVVaefBYo2NCzW6JACAm4qKipIkVwCJ7sFsNqtfv37nHCYTPgIAAAA9kNls0oSEcP3riyPKyCokfAQAnDWTyaTo6Gj17t1b1dWNF9qFe/Ly8pLZfO4jIwgfAQAAgB4qpTZ83JRVoLQrBhldDgDAzVkslnOeHxDdDxO7AAAAAD1UcmK4JGnnwWKVnKSnCgAAaH+EjwAAAEAPFRPcS/ERfrI7pMw9RUaXAwAAuiHCRwAAAKAHS0mMkCRlZBUYXAkAAOiOCB8BAACAHiylduj1puxCgysBAADdEeEjAAAA0INdNDBMnhaTDhSVK6eo3OhyAABAN0P4CAAAAPRgft4eGtkvRJKUkc3QawAA0L4IHwEAAIAeLiXBOfQ6YzdDrwEAQPsifAQAAAB6uJRBzkVntuwpVI3NbnA1AACgOyF8BAAAAHq4C/sEKaiXp6wVNfrycInR5QAAgG6E8BEAAADo4SxmkyYkhEmSNmUx9BoAALQfwkcAAAAASk5wDr3OyGLRGQAA0H4IHwEAAAAoJdG56MznOcU6UVFtcDUAAKC7IHwEAAAAoNhQX8WF+arG7tCne48ZXQ4AAOgmCB8BAAAASJJSEp1Drzcx9BoAALQTwkcAAAAAkqTk2qHXGSw6AwAA2gnhIwAAAABJ0vj4MFnMJu0tLNPh4pNGlwMAALoBwkcAAAAAkqRAH0+NiA2WxNBrAADQPggfAQAAALjUrXq9kaHXAACgHRA+AgAAAHCpCx83ZxfKZncYXA0AAHB3hI8AAAAAXIb3DVaAt4eKy6v1zZESo8sBAABujvARAAAAbmvFihWKi4uTj4+PkpKStG3btmbbrlq1SikpKQoJCVFISIhSU1Mbtb/99ttlMpkabFdddVWDNseOHdOtt96qwMBABQcH64477lBpaWmH3J8RPCxmjY8Pk8Sq1wAA4NwRPgIAAMAtrVu3TmlpaVqwYIF27Nih4cOHa9KkSTp69GiT7Tds2KBp06bp448/VmZmpmJjY3XllVfq8OHDDdpdddVVys3NdW1/+9vfGrx/66236ptvvtGHH36of//739q4caPuuuuuDrtPI9QNvc5g0RkAAHCOTA6Ho0dN5GK1WhUUFKSSkhIFBgYaXQ4AAECb8TzjlJSUpLFjx2r58uWSJLvdrtjYWN1777164IEHzni8zWZTSEiIli9frunTp0ty9nwsLi7W22+/3eQx3333nYYOHarPPvtMY8aMkSStX79eV199tQ4dOqSYmJgmj6usrFRlZaXrtdVqVWxsbJf9DvcXlunSJRvkaTHpiwVXytfLw+iSAABAF9KW51F6PgIAAMDtVFVVafv27UpNTXXtM5vNSk1NVWZmZqvOUV5erurqaoWGhjbYv2HDBvXu3VvnnXee7r77bhUVFbney8zMVHBwsCt4lKTU1FSZzWZt3bq12WstWrRIQUFBri02Nra1t2qI/mG+6hvSS9U2h7buPWZ0OQAAwI0RPgIAAMDtFBYWymazKTIyssH+yMhI5eXlteocc+fOVUxMTIMA86qrrtIrr7yi9PR0PfHEE/rkk0/0wx/+UDabTZKUl5en3r17NziPh4eHQkNDW7zuvHnzVFJS4toOHjzY2ls1hMlkUkpihCTmfQQAAOeG8RMAAADocRYvXqy1a9dqw4YN8vHxce2/+eabXT9feOGFGjZsmOLj47VhwwZdfvnlZ309b29veXt7n1PNnS0lMVx/25bDvI8AAOCc0PMRAAAAbic8PFwWi0X5+fkN9ufn5ysqKqrFY5csWaLFixfrgw8+0LBhw1psO3DgQIWHhys7O1uSFBUV1WhBm5qaGh07duyM13U3F8eHyWySso6WKq+kwuhyAACAmyJ8BAAAgNvx8vLS6NGjlZ6e7tpnt9uVnp6u8ePHN3vck08+qccee0zr169vMG9jcw4dOqSioiJFR0dLksaPH6/i4mJt377d1ea///2v7Ha7kpKSzuGOup5gXy9d2DdYEqteAwCAs0f4CAAAALeUlpamVatW6eWXX9Z3332nu+++W2VlZZo5c6Ykafr06Zo3b56r/RNPPKGHH35Yq1evVlxcnPLy8pSXl6fS0lJJUmlpqf7v//5Pn376qfbv36/09HRdf/31SkhI0KRJkyRJQ4YM0VVXXaU777xT27Zt0+bNmzVr1izdfPPNza507c4mJoZLkjZlM+8jAAA4O4SPAAAAcEtTp07VkiVLNH/+fI0YMUI7d+7U+vXrXYvQ5OTkKDc319X++eefV1VVlW666SZFR0e7tiVLlkiSLBaLvvzyS1133XUaNGiQ7rjjDo0ePVoZGRkN5mt89dVXNXjwYF1++eW6+uqrlZycrD//+c+de/OdJDmhNnzMKpTd7jC4GgAA4I5MDoejRz1FWK1WBQUFqaSkRIGBgUaXAwAA0GY8z7g/d/kOq2rsGrnwA5VV2fTur5N1fkyQ0SUBAIAuoC3PMvR8BAAAANAkLw+zLhoYJknKyGLoNQAAaDvDw8cVK1YoLi5OPj4+SkpK0rZt21psv2zZMp133nnq1auXYmNjNWfOHFVUsPoeAAAA0BFSEk8NvQYAAGgrQ8PHdevWKS0tTQsWLNCOHTs0fPhwTZo0SUePHm2y/WuvvaYHHnhACxYs0HfffacXX3xR69at0+9+97tOrhwAAADoGZITIyRJ2/YfU0W1zeBqAACAuzE0fFy6dKnuvPNOzZw5U0OHDtXKlSvl6+ur1atXN9l+y5YtmjBhgm655RbFxcXpyiuv1LRp087YWxIAAADA2YmP8FNMkI+qauzatu+Y0eUAAAA3Y1j4WFVVpe3btys1NfVUMWazUlNTlZmZ2eQxF198sbZv3+4KG/fu3av33ntPV199dbPXqayslNVqbbABAAAAaB2TyaTkuqHX2Qy9BgAAbWNY+FhYWCibzabIyMgG+yMjI5WXl9fkMbfccosWLlyo5ORkeXp6Kj4+XpdeemmLw64XLVqkoKAg1xYbG9uu9wEAAAB0d3VDrzfuLjC4EgAA4G4MX3CmLTZs2KDHH39czz33nHbs2KE333xT7777rh577LFmj5k3b55KSkpc28GDBzuxYgAAAMD9JSeEy2SSvs87oaMnWOwRAAC0nodRFw4PD5fFYlF+fn6D/fn5+YqKimrymIcfflg//elP9fOf/1ySdOGFF6qsrEx33XWXHnzwQZnNjbNUb29veXt7t/8NAAAAAD1EqJ+Xzo8J1NeHrdqcXagbRvY1uiQAAOAmDOv56OXlpdGjRys9Pd21z263Kz09XePHj2/ymPLy8kYBo8VikSQ5HI6OKxYAAADo4VJqh15nZDHvIwAAaD1Dh12npaVp1apVevnll/Xdd9/p7rvvVllZmWbOnClJmj59uubNm+dqf+211+r555/X2rVrtW/fPn344Yd6+OGHde2117pCSAAAAADtLyWhdtGZrEL+4R8AALSaYcOuJWnq1KkqKCjQ/PnzlZeXpxEjRmj9+vWuRWhycnIa9HR86KGHZDKZ9NBDD+nw4cOKiIjQtddeqz/84Q9G3QIAAADQI4yOC5GPp1lHT1Rqd36pzosKMLokAADgBkyOHvbPllarVUFBQSopKVFgYKDR5QAAALQZzzPuz12/wxmrt+mT3QV66Joh+nnKQKPLAQAABmnLs4xbrXYNAAAAwDgpic6h18z7CAAAWovwEQAAAECr1C06s3VfkSqqbQZXAwAA3AHhIwAAAIBWGRTpr94B3qqotmvHgeNGlwMAANwA4SMAAACAVjGZTEquHXq9kaHXAACgFQgfAQAAALTaxNqh15uyCwyuBAAAuAPCRwAAAACtNiHB2fPx68NWFZVWGlwNAADo6ggfAQAAALRaRIC3hkQHSpI27ykyuBoAANDVET4CAAAAaJOU2nkfN2Ux9BoAALSM8BEAAABAm9SFjxlZhXI4HAZXAwAAujLCRwAAAABtMjYuVF4eZuWWVGhPQZnR5QAAgC6M8BEAAABAm/h4WjQuLlSSlMHQawAA0ALCRwAAAABtdmrex0KDKwEAAF0Z4SMAAACANkuuDR8z9xapqsZucDUAAKCrInwEAAAA0GZDogIV7u+l8iqbPs85bnQ5AACgiyJ8BAAAANBmZrNJExJOrXoNAADQFMJHAAAAAGclJTFCkpSRTfgIAACaRvgIAAAA4Kwk1/Z8/PJQsYrLqwyuBgAAdEWEjwAAAADOSlSQjwZF+svhkLbsKTK6HAAA0AURPgIAAAA4a8kJtUOvswoMrgQAAHRFhI8AAAAAzlrKIOfQ6427C+VwOAyuBgAAdDWEjwAAAADOWtKAUHlZzDpcfFL7i8qNLgcAAHQxhI8AAAAAzpqvl4dG9w+RJG1i6DUAADgN4SMAAACAc5KcWDv0OqvQ4EoAAEBXQ/gIAAAA4JxMTHQuOvPpniLV2OwGVwMAALoSwkcAAAAA5+T8mECF+HrqRGWNvjhUbHQ5AACgCyF8BAAAAHBOzGaTLk44teo1AABAHcJHAAAAAOdsYu28j5uyCR8BAMAphI8AAAAAzlly7byPOw8Wy1pRbXA1AACgqyB8BAAAAHDO+gT30sAIP9nsDmXuKTK6HAAA0EUQPgIAAABoFym18z5mZBUYXAkAAOgqCB8BAAAAtIuU2qHXm7KY9xEAADgRPgIAAMBtrVixQnFxcfLx8VFSUpK2bdvWbNtVq1YpJSVFISEhCgkJUWpqaoP21dXVmjt3ri688EL5+fkpJiZG06dP15EjRxqcJy4uTiaTqcG2ePHiDrtHd3JRfJg8zCbtLyrXwWPlRpcDAAC6AMJHAAAAuKV169YpLS1NCxYs0I4dOzR8+HBNmjRJR48ebbL9hg0bNG3aNH388cfKzMxUbGysrrzySh0+fFiSVF5erh07dujhhx/Wjh079Oabb2rXrl267rrrGp1r4cKFys3NdW333ntvh96ru/D39tCofiGSpAx6PwIAAEkmh8PhMLqIzmS1WhUUFKSSkhIFBgYaXQ4AAECb8TzjlJSUpLFjx2r58uWSJLvdrtjYWN1777164IEHzni8zWZTSEiIli9frunTpzfZ5rPPPtO4ceN04MAB9evXT5Kz5+Ps2bM1e/bss669O3+Hz6RnaemHu/XDC6L0/G2jjS4HAAB0gLY8y9DzEQAAAG6nqqpK27dvV2pqqmuf2WxWamqqMjMzW3WO8vJyVVdXKzQ0tNk2JSUlMplMCg4ObrB/8eLFCgsL08iRI/XUU0+ppqamxWtVVlbKarU22LqrlETnojObswtls/eofg4AAKAJHkYXAAAAALRVYWGhbDabIiMjG+yPjIzU999/36pzzJ07VzExMQ0CzPoqKio0d+5cTZs2rcG/6P/617/WqFGjFBoaqi1btmjevHnKzc3V0qVLm73WokWL9Oijj7aqLnc3rG+wAn08ZK2o0ZeHijWydhg2AADomQgfAQAA0OMsXrxYa9eu1YYNG+Tj49Po/erqav3kJz+Rw+HQ888/3+C9tLQ018/Dhg2Tl5eXfvGLX2jRokXy9vZu8nrz5s1rcJzValVsbGw73U3XYjGbNCEhXP/5Ok+bsgoJHwEA6OEYdg0AAAC3Ex4eLovFovz8/Ab78/PzFRUV1eKxS5Ys0eLFi/XBBx9o2LBhjd6vCx4PHDigDz/88IzzGCUlJammpkb79+9vto23t7cCAwMbbN1Zcu3QaxadAQAAhI8AAABwO15eXho9erTS09Nd++x2u9LT0zV+/Phmj3vyySf12GOPaf369RozZkyj9+uCx6ysLH300UcKCws7Yy07d+6U2WxW7969z+5muqGJiRGSpB05x1Va2fJ8mAAAoHtj2DUAAADcUlpammbMmKExY8Zo3LhxWrZsmcrKyjRz5kxJ0vTp09WnTx8tWrRIkvTEE09o/vz5eu211xQXF6e8vDxJkr+/v/z9/VVdXa2bbrpJO3bs0L///W/ZbDZXm9DQUHl5eSkzM1Nbt27VZZddpoCAAGVmZmrOnDm67bbbFBLC8OI6saG+6h/mqwNF5dq6t0iXD4k880EAAKBbInwEAACAW5o6daoKCgo0f/585eXlacSIEVq/fr1rEZqcnByZzacG+jz//POqqqrSTTfd1OA8CxYs0COPPKLDhw/rnXfekSSNGDGiQZuPP/5Yl156qby9vbV27Vo98sgjqqys1IABAzRnzpwG8znCKTkhXAeKcpSRVUj4CABAD2ZyOBwOo4voTFarVUFBQSopKen2c+0AAIDuiecZ99cTvsP1X+fpl3/drvgIP6X/5lKjywEAAO2oLc8yzPkIAAAAoN2Njw+T2STtKSjTkeKTRpcDAAAMQvgIAAAAoN0F9fLUiNhgSdImVr0GAKDHInwEAAAA0CGSa1e93phVYHAlAADAKISPAAAAADrExMRwSdLm7ELZ7T1qqnkAAFCL8BEAAABAhxgeGyx/bw8dL6/WN0esRpcDAAAMQPgIAAAAoEN4WswaHx8mScrIZug1AAA9EeEjAAAAgA6TUjv0OmM3i84AANATET4CAAAA6DAptYvObD9wXOVVNQZXAwAAOhvhIwAAAIAOExfmqz7BvVRls2vrvmNGlwMAADoZ4SMAAACADmMymTRxkHPo9aYshl4DANDTED4CAAAA6FDJCc6h1xlZLDoDAEBPQ/gIAAAAoENNSAiTySTtzi9VvrXC6HIAAEAnInwEAAAA0KGCfb00rE+QJCmDodcAAPQohI8AAAAAOlzdqtebGHoNAECPQvgIAAAAoMMlJ9YuOpNdJLvdYXA1AACgsxA+AgAAAOhwo/qFyNfLosLSSn2fd8LocgAAQCchfAQAAADQ4bw8zLpoYJgkaVM2Q68BAOgpCB8BAAAAdIrkBOfQaxadAQCg5yB8BAAAANApJg5yho/b9h1TRbXN4GoAAEBnIHwEAAAA0CniI/wVFeijyhq7Ptt/zOhyAABAJyB8BAAAANApTCaTUupWvWboNQAAPQLhIwAAAIBOk1wbPm4kfAQAoEcgfAQAAADQaeoWnfku16qCE5UGVwMAADoa4SMAAACAThPm763zYwIlSZuz6f0IAEB3R/gIAAAAoFOlJEZIkjIYeg0AQLdH+AgAAACgU9UtOpORVSCHw2FwNQAAoCMRPgIAAADoVKP7h8jH06yjJyqVdbTU6HIAAEAHInwEAAAA0Kl8PC0aNyBMkrRxd4HB1QAAgI5E+AgAAACg002sHXq9iUVnAADo1ggfAQAAAHS65Nrw8dO9RaqssRlcDQAA6CiEjwAAAAA63XmRAYoI8FZFtV3bDxw3uhwAANBBCB8BAAAAdDqTyaSUhNqh11kMvQYAoLsifAQAAABgiLqh1xmEjwAAdFuEjwAAAAAMkVzb8/HrIyU6VlZlcDUAAKAjED4CAAAAMETvQB8NjgqQwyFtZtVrAAC6JcJHAAAAAIZJSWTeRwAAujPCRwAAAACGSU6MkCRlZBXI4XAYXA0AAGhvhI8AAAAADDMuLlReHmYdKanQ3sIyo8sBAADtjPARAAAAgGF6eVk0Ni5EkpSxu8DgagAAQHsjfAQAAABgqJTaodebWHQGAIBux/DwccWKFYqLi5OPj4+SkpK0bdu2FtsXFxfrnnvuUXR0tLy9vTVo0CC99957nVQtAAAAgPaWnOBcdCZzT5GqbXaDqwEAAO3J0PBx3bp1SktL04IFC7Rjxw4NHz5ckyZN0tGjR5tsX1VVpSuuuEL79+/XG2+8oV27dmnVqlXq06dPJ1cOAAAAoL0MjQ5UmJ+Xyqps+jyn2OhyAABAOzI0fFy6dKnuvPNOzZw5U0OHDtXKlSvl6+ur1atXN9l+9erVOnbsmN5++21NmDBBcXFxuuSSSzR8+PBOrhwAAABAezGbTZpQ2/sxI4t5HwEA6E4MCx+rqqq0fft2paamnirGbFZqaqoyMzObPOadd97R+PHjdc899ygyMlIXXHCBHn/8cdlstmavU1lZKavV2mADAAAA0LWkJNaFj8z7CABAd2JY+FhYWCibzabIyMgG+yMjI5WXl9fkMXv37tUbb7whm82m9957Tw8//LCefvpp/f73v2/2OosWLVJQUJBri42Nbdf7AAAAgHHaMn/4qlWrlJKSopCQEIWEhCg1NbVRe4fDofnz5ys6Olq9evVSamqqsrKyGrQ5duyYbr31VgUGBio4OFh33HGHSktLO+T+epK6RWe+PFSskvJqg6sBAADtxfAFZ9rCbrerd+/e+vOf/6zRo0dr6tSpevDBB7Vy5cpmj5k3b55KSkpc28GDBzuxYgAAAHSUts4fvmHDBk2bNk0ff/yxMjMzFRsbqyuvvFKHDx92tXnyySf1zDPPaOXKldq6dav8/Pw0adIkVVRUuNrceuut+uabb/Thhx/q3//+tzZu3Ki77rqrw++3u4sK8lFCb3/ZHdKWPfR+BACguzAsfAwPD5fFYlF+fn6D/fn5+YqKimrymOjoaA0aNEgWi8W1b8iQIcrLy1NVVVWTx3h7eyswMLDBBgAAAPfX1vnDX331Vf3qV7/SiBEjNHjwYL3wwguy2+1KT0+X5Oz1uGzZMj300EO6/vrrNWzYML3yyis6cuSI3n77bUnSd999p/Xr1+uFF15QUlKSkpOT9eyzz2rt2rU6cuRIZ916t1U39HojQ68BAOg2DAsfvby8NHr0aNfDniTXw9/48eObPGbChAnKzs6W3W537du9e7eio6Pl5eXV4TUDAACgazib+cNPV15erurqaoWGhkqS9u3bp7y8vAbnDAoKUlJSkuucmZmZCg4O1pgxY1xtUlNTZTabtXXr1mavxTzkrVMXPm7KZtEZAAC6C0OHXaelpWnVqlV6+eWX9d133+nuu+9WWVmZZs6cKUmaPn265s2b52p/991369ixY7rvvvu0e/duvfvuu3r88cd1zz33GHULAAAAMMDZzB9+urlz5yomJsYVNtYd19I58/Ly1Lt37wbve3h4KDQ0tMXrMg956yQNCJOnxaSDx07qQFGZ0eUAAIB24GHkxadOnaqCggLNnz9feXl5GjFihNavX+964MvJyZHZfCofjY2N1fvvv685c+Zo2LBh6tOnj+677z7NnTvXqFsAAACAG1q8eLHWrl2rDRs2yMfHp8OvN2/ePKWlpbleW61WAsgm+Hl7aFS/EG3dd0wbswr10zA/o0sCAADnyNDwUZJmzZqlWbNmNfnehg0bGu0bP368Pv300w6uCgAAAF3Z2cwfXmfJkiVavHixPvroIw0bNsy1v+64/Px8RUdHNzjniBEjXG1OX9CmpqZGx44da/G63t7e8vb2btW99XQTB0Vo675j2pRVoJ9e1N/ocgAAwDlyq9WuAQAAAOns5g+XnKtZP/bYY1q/fn2DeRslacCAAYqKimpwTqvVqq1bt7rOOX78eBUXF2v79u2uNv/9739lt9uVlJTUXrfXoyUnOOd93JJdpBqb/QytAQBAV2d4z0cAAADgbKSlpWnGjBkaM2aMxo0bp2XLljWaP7xPnz5atGiRJOmJJ57Q/Pnz9dprrykuLs41R6O/v7/8/f1lMpk0e/Zs/f73v1diYqIGDBighx9+WDExMZo8ebIkaciQIbrqqqt05513auXKlaqurtasWbN08803KyYmxpDPobu5oE+Qgn09VVxerS8OlWh0/xCjSwIAAOeA8BEAAABuqa3zhz///POqqqrSTTfd1OA8CxYs0COPPCJJ+u1vf6uysjLdddddKi4uVnJystavX99gXshXX31Vs2bN0uWXXy6z2awpU6bomWee6fgb7iEsZpMmxIfr3a9ylZFVQPgIAICbMzkcDofRRXQmq9WqoKAglZSUKDAw0OhyAAAA2oznGffHd9iytdty9MCbX2lM/xC9cffFRpcDAABO05ZnGeZ8BAAAANClJCc65338/GCxrBXVBlcDAADOBeEjAAAAgC6lb4ivBob7yWZ36NM9RUaXAwAAzgHhIwAAAIAup673Y0ZWocGVAACAc0H4CAAAAKDLSUmMkCRtyiZ8BADAnRE+AgAAAOhyLhoYKovZpH2FZTp4rNzocgAAwFkifAQAAADQ5QT4eGpUv2BJ9H4EAMCdtTl8jIuL08KFC5WTk9MR9QAAAACAJCk5wTn0OiOrwOBKAADA2Wpz+Dh79my9+eabGjhwoK644gqtXbtWlZWVHVEbAAAAgB6sbtGZzdlFstkdBlcDAADOxlmFjzt37tS2bds0ZMgQ3XvvvYqOjtasWbO0Y8eOjqgRAAAAQA80vG+QAnw8VHKyWl8dLjG6HAAAcBbOes7HUaNG6ZlnntGRI0e0YMECvfDCCxo7dqxGjBih1atXy+HgXyYBAAAAnD0Pi1kXx4dJkjYx9BoAALd01uFjdXW1/v73v+u6667Tb37zG40ZM0YvvPCCpkyZot/97ne69dZb27NOAAAAAD1QSmLdvI8sOgMAgDvyaOsBO3bs0EsvvaS//e1vMpvNmj59uv74xz9q8ODBrjY33HCDxo4d266FAgAAAOh5UmrnfdyRc1xllTXy827zrzAAAMBAbf4v99ixY3XFFVfo+eef1+TJk+Xp6dmozYABA3TzzTe3S4EAAAAAeq7+YX7qF+qrnGPl2rqvSD8YHGl0SQAAoA3aHD7u3btX/fv3b7GNn5+fXnrppbMuCgAAAADqJCeG67WtOdq4u5DwEQAAN9PmOR+PHj2qrVu3Ntq/detW/e9//2uXogAAAACgzsTaodebspn3EQAAd9Pm8PGee+7RwYMHG+0/fPiw7rnnnnYpCgAAAADqjI8Pl9kkZR8tVW7JSaPLAQAAbdDm8PHbb7/VqFGjGu0fOXKkvv3223YpCgAAAADqBPXy1PDYYEmseg0AgLtpc/jo7e2t/Pz8Rvtzc3Pl4cHKcwAAAADaX0qCc+g14SMAAO6lzeHjlVdeqXnz5qmkpMS1r7i4WL/73e90xRVXtGtxAAAAACBJKYMiJEmbswtltzsMrgYAALRWm7sqLlmyRBMnTlT//v01cuRISdLOnTsVGRmpv/zlL+1eIAAAAACMiA2Wv7eHjpVV6dtcqy7oE2R0SQAAoBXa3POxT58++vLLL/Xkk09q6NChGj16tP70pz/pq6++UmxsbEfUCAAAAKCH87SYddHAMEkMvQYAwJ2c1SSNfn5+uuuuu9q7FgAAAABoVkpiuD76Ll8ZWQW6+9J4o8sBAACtcNYrxHz77bfKyclRVVVVg/3XXXfdORcFAAAAAKdLTnQuOvO//cd1ssqmXl4WgysCAABn0ubwce/evbrhhhv01VdfyWQyyeFwTvZsMpkkSTabrX0rBAAAAABJA8P91Ce4lw4Xn9TWfUW69LzeRpcEAADOoM1zPt53330aMGCAjh49Kl9fX33zzTfauHGjxowZow0bNnRAiQAAAOhODh48qEOHDrleb9u2TbNnz9af//xnA6uCOzCZTEpOcPZ+3MS8jwAAuIU2h4+ZmZlauHChwsPDZTabZTablZycrEWLFunXv/51R9QIAACAbuSWW27Rxx9/LEnKy8vTFVdcoW3btunBBx/UwoULDa4OXV3KIGf4yKIzAAC4hzaHjzabTQEBAZKk8PBwHTlyRJLUv39/7dq1q32rAwAAQLfz9ddfa9y4cZKkv//977rgggu0ZcsWvfrqq1qzZo2xxaHLmxAfLpNJ2pV/QketFUaXAwAAzqDN4eMFF1ygL774QpKUlJSkJ598Ups3b9bChQs1cODAdi8QAAAA3Ut1dbW8vb0lSR999JFrwcLBgwcrNzfXyNLgBkL8vHRhnyBJ0qZsej8CANDVtTl8fOihh2S32yVJCxcu1L59+5SSkqL33ntPzzzzTLsXCAAAgO7l/PPP18qVK5WRkaEPP/xQV111lSTpyJEjCgsLM7g6uIO6eR8Zeg0AQNfX5tWuJ02a5Po5ISFB33//vY4dO6aQkBDXitcAAABAc5544gndcMMNeuqppzRjxgwNHz5ckvTOO++4hmMDLUlJjNBzG/YoI6tQDoeD30MAAOjC2hQ+VldXq1evXtq5c6cuuOAC1/7Q0NB2LwwAAADd06WXXqrCwkJZrVaFhIS49t91113y9fU1sDK4i1H9g9XL06LC0kp9n3dCQ6IDjS4JAAA0o03Drj09PdWvXz/ZbLaOqgcAAADd3MmTJ1VZWekKHg8cOKBly5Zp165d6t27t8HVwR14e1h00UBnB4hNDL0GAKBLa/Ocjw8++KB+97vf6dixYx1RDwAAALq566+/Xq+88ookqbi4WElJSXr66ac1efJkPf/88wZXB3eRnBghSdqYVWBwJQAAoCVtDh+XL1+ujRs3KiYmRuedd55GjRrVYAMAAABasmPHDqWkpEiS3njjDUVGRurAgQN65ZVXWMAQrTYx0bnozLZ9x1RRzcgsAAC6qjYvODN58uQOKAMAAAA9RXl5uQICAiRJH3zwgW688UaZzWZddNFFOnDggMHVwV0k9PZXZKC38q2V+t/+40quDSMBAEDX0ubwccGCBR1RBwAAAHqIhIQEvf3227rhhhv0/vvva86cOZKko0ePKjCQhUPQOiaTSSmJEXpj+yFlZBcQPgIA0EW1edg1AAAAcC7mz5+v+++/X3FxcRo3bpzGjx8vydkLcuTIkQZXB3eSUhs4Zuxm0RkAALqqNvd8NJvNMplMzb7PStgAAABoyU033aTk5GTl5uZq+PDhrv2XX365brjhBgMrg7uZkOAMH7/NtaqwtFLh/t4GVwQAAE7X5vDxrbfeavC6urpan3/+uV5++WU9+uij7VYYAAAAuq+oqChFRUXp0KFDkqS+fftq3LhxBlcFdxPu762h0YH6NteqzdmFun5EH6NLAgAAp2lz+Hj99dc32nfTTTfp/PPP17p163THHXe0S2EAAADonux2u37/+9/r6aefVmlpqSQpICBAv/nNb/Tggw/KbGZmILReSmK4vs21KiOL8BEAgK6o3Z7sLrroIqWnp7fX6QAAANBNPfjgg1q+fLkWL16szz//XJ9//rkef/xxPfvss3r44YeNLg9uJiUxQpKUkVUgh8NhcDUAAOB0be752JSTJ0/qmWeeUZ8+/EsjAAAAWvbyyy/rhRde0HXXXefaN2zYMPXp00e/+tWv9Ic//MHA6uBuxsSFyNvDrHxrpbKPlioxMsDokgAAQD1tDh9DQkIaLDjjcDh04sQJ+fr66q9//Wu7FgcAAIDu59ixYxo8eHCj/YMHD9axY8cMqAjuzMfTonEDQpWRVaiMrELCRwAAupg2h49//OMfG4SPZrNZERERSkpKUkhISLsWBwAAgO5n+PDhWr58uZ555pkG+5cvX65hw4YZVBXcWUpieG34WKCfJQ8wuhwAAFBPm+d8vP322zVjxgzX9tOf/lRXXXUVwSMAAABa5cknn9Tq1as1dOhQ3XHHHbrjjjs0dOhQrVmzRkuWLGnTuVasWKG4uDj5+PgoKSlJ27Zta7btN998oylTpiguLk4mk0nLli1r1KbuvdO3e+65x9Xm0ksvbfT+L3/5yzbVjfZVN+/jp3uPqbLGZnA1AACgvjaHjy+99JJef/31Rvtff/11vfzyy+1SFAAAALqvSy65RLt379YNN9yg4uJiFRcX68Ybb9Q333yjv/zlL60+z7p165SWlqYFCxZox44dGj58uCZNmqSjR4822b68vFwDBw7U4sWLFRUV1WSbzz77TLm5ua7tww8/lCT9+Mc/btDuzjvvbNDuySefbHXdaH+DowIU7u+tk9U27ThQbHQ5AACgnjaHj4sWLVJ4eHij/b1799bjjz/eLkUBAACge4uJidEf/vAH/eMf/9A//vEP/f73v9fx48f14osvtvocS5cu1Z133qmZM2dq6NChWrlypXx9fbV69eom248dO1ZPPfWUbr75Znl7ezfZJiIiQlFRUa7t3//+t+Lj43XJJZc0aOfr69ugXWBgYOtvHu3OZDIpJdH5O8qm7AKDqwEAAPW1OXzMycnRgAGN51Hp37+/cnJy2qUoAAAAoCVVVVXavn27UlNTXfvMZrNSU1OVmZnZbtf461//qp/97GcN5jyXpFdffVXh4eG64IILNG/ePJWXl7d4rsrKSlmt1gYb2ldygjN8zMgqNLgSAABQX5sXnOndu7e+/PJLxcXFNdj/xRdfKCwsrL3qAgAAAJpVWFgom82myMjIBvsjIyP1/ffft8s13n77bRUXF+v2229vsP+WW25R//79FRMToy+//FJz587Vrl279OabbzZ7rkWLFunRRx9tl7rQtLqej18dLtHxsiqF+HkZXBEAAJDOInycNm2afv3rXysgIEATJ06UJH3yySe67777dPPNN7d7gQAAAIARXnzxRf3whz9UTExMg/133XWX6+cLL7xQ0dHRuvzyy7Vnzx7Fx8c3ea558+YpLS3N9dpqtSo2NrZjCu+hegf66LzIAO3KP6HNewr1o2ExZz4IAAB0uDaHj4899pj279+vyy+/XB4ezsPtdrumT5/OnI8AAABo1o033tji+8XFxa0+V3h4uCwWi/Lz8xvsz8/Pb3YxmbY4cOCAPvrooxZ7M9ZJSkqSJGVnZzcbPnp7ezc7zyTaT0piuHbln9CmLMJHAAC6ijaHj15eXlq3bp1+//vfa+fOnerVq5cuvPBC9e/fvyPqAwAAQDcRFBR0xvenT5/eqnN5eXlp9OjRSk9P1+TJkyU5/0E8PT1ds2bNOtdS9dJLL6l379665pprzth2586dkqTo6Ohzvi7OTXJiuF7YtE8ZWYVyOByN5uoEAACdr83hY53ExEQlJia2Zy0AAADoxl566aV2PV9aWppmzJihMWPGaNy4cVq2bJnKyso0c+ZMSdL06dPVp08fLVq0SJJzAZlvv/3W9fPhw4e1c+dO+fv7KyEhwXVeu92ul156STNmzHCN9KmzZ88evfbaa7r66qsVFhamL7/8UnPmzNHEiRM1bNiwdr0/tF3SgDB5Wcw6XHxS+wrLNDDC3+iSAADo8dq82vWUKVP0xBNPNNr/5JNP6sc//nG7FAUAAACcydSpU7VkyRLNnz9fI0aM0M6dO7V+/XrXIjQ5OTnKzc11tT9y5IhGjhypkSNHKjc3V0uWLNHIkSP185//vMF5P/roI+Xk5OhnP/tZo2t6eXnpo48+0pVXXqnBgwfrN7/5jaZMmaJ//etfHXuzaJVeXhaNiQuRxKrXAAB0FSaHw+FoywERERH673//qwsvvLDB/q+++kqpqamN5t3paqxWq4KCglRSUqLAwECjywEAAGgznmfcH99hx3luQ7aeXL9LqUMi9cKMMUaXAwBAt9SWZ5k293wsLS2Vl5dXo/2enp6yWq1tPR0AAAAAtJuJiRGSpE/3FqnaZje4GgAA0Obw8cILL9S6desa7V+7dq2GDh3aLkUBAAAAwNkYGh2oUD8vlVbWaOfBYqPLAQCgx2vzgjMPP/ywbrzxRu3Zs0c/+MEPJEnp6el67bXX9MYbb7R7gQAAAADQWmazSRMSwvWvL44oY3eBxsaFGl0SAAA9Wpt7Pl577bV6++23lZ2drV/96lf6zW9+o8OHD+u///1vg1UCAQAAAMAIKQnhkqSMbBadAQDAaG0OHyXpmmuu0ebNm1VWVqa9e/fqJz/5ie6//34NHz68vesDAAAAgDZJTnSGj18cLFbJyWqDqwEAoGc7q/BRkjZu3KgZM2YoJiZGTz/9tH7wgx/o008/bc/aAAAAAKDNYoJ7KT7CT3aHlLmH3o8AABipTXM+5uXlac2aNXrxxRdltVr1k5/8RJWVlXr77bdZbAYAAABAl5GSGKE9BWXKyCrUVRdEG10OAAA9Vqt7Pl577bU677zz9OWXX2rZsmU6cuSInn322Y6sDQAAAADOSkrt0OuMLHo+AgBgpFb3fPzPf/6jX//617r77ruVmJjYkTUBAAAAwDm5aGCYPC0m5Rwr14GiMvUP8zO6JAAAeqRW93zctGmTTpw4odGjRyspKUnLly9XYSH/iggAAACg6/Hz9tDIfiGS6P0IAICRWh0+XnTRRVq1apVyc3P1i1/8QmvXrlVMTIzsdrs+/PBDnThxoiPrBAAAAIA2mVg79HoT4SMAAIZp82rXfn5++tnPfqZNmzbpq6++0m9+8xstXrxYvXv31nXXXdcRNQIAAABAmyUnRkiSNu8pVI3NbnA1AAD0TG0OH+s777zz9OSTT+rQoUP629/+1l41AQAAAMA5u7BPkIJ6eepERY2+PFxidDkAAPRI5xQ+1rFYLJo8ebLeeeed9jgdAAAAAJwzi9mkCQlhkqSM3Qy9BgDACO0SPgIAAABAV5Sc4Bx6vSm7wOBKAADomQgfAQAAAHRbKbWLzuzIKdaJimqDqwEAoOchfAQAAADQbcWG+iouzFc2u0Of7j1mdDkAAPQ4hI8AAAAAurWU2lWvM7IYeg0AQGcjfAQAAADQrSXXDr3elMWiMwAAdDbCRwAAAADd2vj4MFnMJu0tLNOh4+VGlwMAQI9C+AgAAACgWwv08dSI2GBJ9H4EAKCzET4CAAAA6PbqVr3OyCZ8BACgM3WJ8HHFihWKi4uTj4+PkpKStG3btlYdt3btWplMJk2ePLljCwQAAADg1urCx83ZhbLZHQZXAwBAz2F4+Lhu3TqlpaVpwYIF2rFjh4YPH65Jkybp6NGjLR63f/9+3X///UpJSemkSgEAAAC4q+F9gxXg7aHi8mp9c6TE6HIAAOgxDA8fly5dqjvvvFMzZ87U0KFDtXLlSvn6+mr16tXNHmOz2XTrrbfq0Ucf1cCBAzuxWgAAAADuyMNi1vj4MElSBvM+AgDQaQwNH6uqqrR9+3alpqa69pnNZqWmpiozM7PZ4xYuXKjevXvrjjvuOOM1KisrZbVaG2wAAAAAep6UQRGSpIysAoMrAQCg5zA0fCwsLJTNZlNkZGSD/ZGRkcrLy2vymE2bNunFF1/UqlWrWnWNRYsWKSgoyLXFxsaec90AAAAA3E9KgnPex+0HjqusssbgagAA6BkMH3bdFidOnNBPf/pTrVq1SuHh4a06Zt68eSopKXFtBw8e7OAqAQAAAHRF/cN8FRvaS9U2h7btO2Z0OQAA9AgeRl48PDxcFotF+fn5Dfbn5+crKiqqUfs9e/Zo//79uvbaa1377Ha7JMnDw0O7du1SfHx8g2O8vb3l7e3dAdUDAAAAcCcmk0nJCRH627Ycbcwq0GWDextdEgAA3Z6hPR+9vLw0evRopaenu/bZ7Xalp6dr/PjxjdoPHjxYX331lXbu3OnarrvuOl122WXauXMnQ6oBAAAAtCgl0TmCahOLzgAA0CkM7fkoSWlpaZoxY4bGjBmjcePGadmyZSorK9PMmTMlSdOnT1efPn20aNEi+fj46IILLmhwfHBwsCQ12g8AAAAAp7s4Pkxmk5R1tFS5JScVHdTL6JIAAOjWDA8fp06dqoKCAs2fP195eXkaMWKE1q9f71qEJicnR2azW01NCQAAAKCLCvb10oV9g/XFwWJtyirUj8cwegoAgI5kcjgcDqOL6ExWq1VBQUEqKSlRYGCg0eUAAAC0Gc8z7o/v0FhPf7BLz/43W9cNj9Ez00YaXQ4AAG6nLc8ydCkEAAAA0KMkJzjnfdycXSi7vUf1xQAAoNMRPgIAAADoUUb2C5Gfl0VFZVX6NtdqdDkAAHRrhI8AAAAAehQvD7MuGhgmSdqUzarXAAB0JMJHAAAAAD1OSqJz6HVGVoHBlQAA0L0RPgIAAADocZITIyRJn+0/ropqm8HVAADQfRE+AgAAAOhx4iP8FBPko6oau7btO2Z0OQAAdFuEjwAAAAB6HJPJpGSGXgMA0OEIHwEAAAD0SCm1Q68zslh0BgCAjkL4CAAAAKBHmpAQLpNJ+j7vhI6eqDC6HAAAuiXCRwAAAAA9Uqifly6ICZIkbc6m9yMAAB2B8BEAAABAj+Wa93E34SMAAB2B8BEAAABua8WKFYqLi5OPj4+SkpK0bdu2Ztt+8803mjJliuLi4mQymbRs2bJGbR555BGZTKYG2+DBgxu0qaio0D333KOwsDD5+/trypQpys/Pb+9bQydJqQsfswvlcDgMrgYAgO6H8BEAAABuad26dUpLS9OCBQu0Y8cODR8+XJMmTdLRo0ebbF9eXq6BAwdq8eLFioqKava8559/vnJzc13bpk2bGrw/Z84c/etf/9Lrr7+uTz75REeOHNGNN97YrveGzjO6f4h6eVpUcKJSu/JPGF0OAADdDuEjAAAA3NLSpUt15513aubMmRo6dKhWrlwpX19frV69usn2Y8eO1VNPPaWbb75Z3t7ezZ7Xw8NDUVFRri08PNz1XklJiV588UUtXbpUP/jBDzR69Gi99NJL2rJliz799NN2v0d0PG8Pi8YNCJUkbWLVawAA2h3hIwAAANxOVVWVtm/frtTUVNc+s9ms1NRUZWZmntO5s7KyFBMTo4EDB+rWW29VTk6O673t27erurq6wXUHDx6sfv36tXjdyspKWa3WBhu6jrqh1xsJHwEAaHeEjwAAAHA7hYWFstlsioyMbLA/MjJSeXl5Z33epKQkrVmzRuvXr9fzzz+vffv2KSUlRSdOOIfj5uXlycvLS8HBwW267qJFixQUFOTaYmNjz7pGtL+UxAhJ0rZ9RaqothlcDQAA3QvhIwAAAFDrhz/8oX784x9r2LBhmjRpkt577z0VFxfr73//+zmdd968eSopKXFtBw8ebKeK0R4GRfqrd4C3Kqrt2n7guNHlAADQrRA+AgAAwO2Eh4fLYrE0WmU6Pz+/xcVk2io4OFiDBg1Sdna2JCkqKkpVVVUqLi5u03W9vb0VGBjYYEPXYTKZlFy36jVDrwEAaFeEjwAAAHA7Xl5eGj16tNLT01377Ha70tPTNX78+Ha7Tmlpqfbs2aPo6GhJ0ujRo+Xp6dngurt27VJOTk67Xhedb2Lt0OuMrAKDKwEAoHvxMLoAAAAA4GykpaVpxowZGjNmjMaNG6dly5aprKxMM2fOlCRNnz5dffr00aJFiyQ5F6n59ttvXT8fPnxYO3fulL+/vxISEiRJ999/v6699lr1799fR44c0YIFC2SxWDRt2jRJUlBQkO644w6lpaUpNDRUgYGBuvfeezV+/HhddNFFBnwKaC8TEpw9H785YlVRaaXC/JtfER0AALQe4SMAAADc0tSpU1VQUKD58+crLy9PI0aM0Pr1612L0OTk5MhsPjXQ58iRIxo5cqTr9ZIlS7RkyRJdcskl2rBhgyTp0KFDmjZtmoqKihQREaHk5GR9+umnioiIcB33xz/+UWazWVOmTFFlZaUmTZqk5557rnNuGh0mIsBbQ6ID9V2uVZuyC3X9iD5GlwQAQLdgcjgcDqOL6ExWq1VBQUEqKSlhrh0AAOCWeJ5xf3yHXdPj732nP2/cqx+P7qunfjzc6HIAAOiy2vIsw5yPAAAAACAppXbRmU3ZhephfTQAAOgwhI8AAAAAIGlsXKi8PMzKLanQnoJSo8sBAKBbIHwEAAAAAEk+nhYlDQiVJGVkFRpcDQAA3QPhIwAAAADUSq5d9ZrwEQCA9kH4CAAAAAC1UhKdK5t/urdIVTV2g6sBAMD9ET4CAAAAQK3BUQEK9/dSeZVNO3KOG10OAABuj/ARAAAAAGqZzSZNqB16vYmh1wAAnDPCRwAAAACop27odUZWgcGVAADg/ggfAQAAAKCeukVnvjxcouLyKoOrAQDAvRE+AgAAAEA9UUE+GhTpL4dD2pxdZHQ5AAC4NcJHAAAAADhNcoJz6PWmbIZeAwBwLggfAQAAAOA0KYOcQ6837i6Uw+EwuBoAANwX4SMAAAAAnCZpQKi8LGYdLj6p/UXlRpcDAIDbInwEAAAAgNP4enlodP8QSax6DQDAuSB8BAAAAIAmJCc6h15nZBUaXAkAAO6L8BEAAAAAmjAx0bnoTOaeIlXb7AZXAwCAeyJ8BAAAAIAmnB8TqBBfT5VW1uiLg8VGlwMAgFsifAQAAACAJpjNJk1IYOg1AADngvARAAAAAJqR4pr3kUVnAAA4G4SPAAAAANCM5Np5H784VKKSk9UGVwMAgPshfAQAAACAZvQJ7qWBEX6y2R3K3FNkdDkAALgdwkcAAAAAaEFK7byPm7IZeg0AQFsRPgIAAABAC1Jqh16z6AwAAG1H+AgAAAAALbgoPkweZpMOFJUrp6jc6HIAAHArhI8AAAAA0AJ/bw+N6hciScpg6DUAAG1C+AgAAAAAZ5CcWDvvI0OvAQBoE8JHAAAAADiDlNrwcXN2oWx2h8HVAADgPggfAQAAAOAMhvUNVqCPh6wVNfryULHR5QAA4DYIHwEAAADgDCxmkyYkOHs/suo1AACtR/gIAAAAAK3AvI8AALQd4SMAAAAAtMLExAhJ0o6c4yqtrDG4GgAA3APhIwAAANAd7d8sbXlWstuMrqTbiA31Vf8wX9XYHfp0T5HR5QAA4BYIHwEAAIDupvqk9M4s6YOHpBevkI5+Z3RF3Ubdqtebshl6DQBAaxA+AgAAAN2Nh480YbbkHSgd3i6tTJE+eUqyVRtdmdtLTnAOvd6YVWBwJQAAuAfCRwAAAKC7MZmk0TOkX30qDbpKsldLH/9e+vNl0pGdRlfn1sbHh8liNmlvQZkOF580uhwAALo8wkcAAACguwrqI01bK924SuoVKuV/Ja36gfTRo1J1hdHVuaWgXp4a3jdIkrSJ3o8AAJwR4SMAAADQnZlM0rCfSPdsk86/QXLYpE1Lpf+XIuVsNbo6t5RSu+p1RhbzPgIAcCaEjwAAAEBP4B8h/XiNNPWvkl9vqXC3tHqStH6eVFVmdHVupW7Rmc3ZhbLbHQZXAwBA10b4CAAAAPQkQ66V7tkqDb9FkkP69Dnp+YulvZ8YXZnbGB4bLH9vDx0vr9Y3R6xGlwMAQJdG+AgAAAD0NL6h0g3PS7e+IQX2lY7vl165TvrXfVJFidHVdXmeFrPGx4dJYtVrAADOhPARAAAA6KkSr5B+lSmNucP5evsaacVF0u73DS3LHdQNvd7EvI8AALSI8BEAAADoyXwCpR8tlWb8WwoZIJ04Ir32E+nNX0jlx4yursuqW3TmfweOqbyqxuBqAADouggfAQAAAEgDUqS7t0jjZ0kySV+ulVaMk779p9GVdUlxYb7qE9xL1TaHtu4jpAUAoDmEjwAAAACcvHylSX+Q7vhQCj9PKiuQ/j5dWvdT6US+0dV1KSaTSRMHOYdeZ+xm6DUAAM0hfAQAAIDbWrFiheLi4uTj46OkpCRt27at2bbffPONpkyZori4OJlMJi1btqxRm0WLFmns2LEKCAhQ7969NXnyZO3atatBm0svvVQmk6nB9stf/rK9b81YsWOlX2ZIE/9PMlmk795x9oL8Yq3kcBhdXZeRnOAcer0pm0VnAABoDuEjAAAA3NK6deuUlpamBQsWaMeOHRo+fLgmTZqko0ePNtm+vLxcAwcO1OLFixUVFdVkm08++UT33HOPPv30U3344Yeqrq7WlVdeqbKysgbt7rzzTuXm5rq2J598st3vz3Ae3tIPHpLu+liKulCqKJbe+oVzPsiSQ0ZX1yVMSAiTySTtzi9VXkmF0eUAANAlET4CAADALS1dulR33nmnZs6cqaFDh2rlypXy9fXV6tWrm2w/duxYPfXUU7r55pvl7e3dZJv169fr9ttv1/nnn6/hw4drzZo1ysnJ0fbt2xu08/X1VVRUlGsLDAxs9/vrMqKHS3d+LP3gYcniJWV94FwR+38v9fhekMG+XhrWJ0iStCmbodcAADSF8BEAAABup6qqStu3b1dqaqprn9lsVmpqqjIzM9vtOiUlJZKk0NDQBvtfffVVhYeH64ILLtC8efNUXl7e4nkqKytltVobbG7F4ilNvF/6RYbUd6xUdUL692zp5WulY/uMrs5QdateZ2Qx9BoAgKYQPgIAAMDtFBYWymazKTIyssH+yMhI5eXltcs17Ha7Zs+erQkTJuiCCy5w7b/lllv017/+VR9//LHmzZunv/zlL7rttttaPNeiRYsUFBTk2mJjY9ulxk7Xe7D0s/elSYskj17S/gzp+YulzOcku83o6gyRnOhcdGZzdqHs9p7dExQAgKZ4GF0AAAAA0BXdc889+vrrr7Vp06YG+++66y7XzxdeeKGio6N1+eWXa8+ePYqPj2/yXPPmzVNaWprrtdVqdd8A0myRxv9KOu8q6Z1fOwPI9+dJ37wlXb9cijjP6Ao71ah+IfL1sqiwtErf553Q0JhuPAQfAICzQM9HAAAAuJ3w8HBZLBbl5+c32J+fn9/sYjJtMWvWLP373//Wxx9/rL59+7bYNikpSZKUnZ3dbBtvb28FBgY22Nxe6EBp+jvSj/4oeQVIh7ZJK5OljKclW7XR1XUaLw+zLhoYJomh1wAANIXwEQAAAG7Hy8tLo0ePVnp6umuf3W5Xenq6xo8ff9bndTgcmjVrlt566y3997//1YABA854zM6dOyVJ0dHRZ31dt2U2S2N+Jt3zqZRwhWSrktIXSqt+IOV+aXR1nSaldug1i84AANAYw64BAADgltLS0jRjxgyNGTNG48aN07Jly1RWVqaZM2dKkqZPn64+ffpo0aJFkpyL1Hz77beunw8fPqydO3fK399fCQkJkpxDrV977TX985//VEBAgGv+yKCgIPXq1Ut79uzRa6+9pquvvlphYWH68ssvNWfOHE2cOFHDhg0z4FPoIoL6Sre+Ln25TvrPXCnvS2nVZVLyHGni/0keTa8u3l3UhY9b9x1TRbVNPp4WgysCAKDrMDkcjh41K7LValVQUJBKSkq6x3AXAADQ4/A8c8ry5cv11FNPKS8vTyNGjNAzzzzjGgZ96aWXKi4uTmvWrJEk7d+/v8mejJdccok2bNggSTKZTE1e56WXXtLtt9+ugwcP6rbbbtPXX3+tsrIyxcbG6oYbbtBDDz3Upu+iW3+HJ/Kl934jffcv5+uIwdL1K6S+Y4ytqwM5HA6NX/Rf5Vkr9Jc7xrlWwAYAoLtqy7MM4SMAAICb4XnG/fWI7/Cbt6X37pfKCiSTWbroV9JlD0pevkZX1iH+7/Uv9Pr2Q7pr4kD97uohRpcDAECHasuzDHM+AgAAAGh/50+W7tkmDZsqOexS5nJp5QRp/6YzHuqOkmuHXmdkMe8jAAD1ET4CAAAA6Bi+odKNf5Zu+bsUECMd2yutuUb6d5pUecLo6tpVcoIzfPwu16qCE5UGVwMAQNdB+AgAAACgYw2a5FwRe9QM5+v/vSg9N17K/sjYutpRmL+3zo9xDjvbzKrXAAC4ED4CAAAA6Hg+QdJ1z0jT/ykF95dKDkp/nSK9/Svp5HGjq2sXdQvNbMwqMLgSAAC6DsJHAAAAAJ1n4KXSrzKlpLslmaSdr0orkqTv/m10ZecspXbex01Zheph63oCANCsLhE+rlixQnFxcfLx8VFSUpK2bdvWbNtVq1YpJSVFISEhCgkJUWpqaovtAQAAAHQxXn7SDxdLP3tfCkuUSvOldbdKr8+Uytx3yPLo/iHy8TTr6IlK7c4vNbocAAC6BMPDx3Xr1iktLU0LFizQjh07NHz4cE2aNElHjx5tsv2GDRs0bdo0ffzxx8rMzFRsbKyuvPJKHT58uJMrBwAAAHBO+iVJv9wkJc+RTBbpmzel5WOlL1+X3LDnoI+nReMGhEmSMhh6DQCAJMnkMHg8QFJSksaOHavly5dLkux2u2JjY3XvvffqgQceOOPxNptNISEhWr58uaZPn97o/crKSlVWnlptzmq1KjY2ViUlJQoMDGy/GwEAAOgkVqtVQUFBPM+4Mb7DJhz5XPrnLCn/a+frQT+UfrRUCowxtq42eiFjr37/7ne6ZFCEXv7ZOKPLAQCgQ7TlWcbQno9VVVXavn27UlNTXfvMZrNSU1OVmZnZqnOUl5erurpaoaGhTb6/aNEiBQUFubbY2Nh2qR0AAABAO4oZKd35sXTZg5LZU9r9H2nFRdKOV9yqF2Ry7byPW/cVqbLGZnA1AAAYz9DwsbCwUDabTZGRkQ32R0ZGKi8vr1XnmDt3rmJiYhoEmPXNmzdPJSUlru3gwYPnXDcAAACADuDhJV3yW+kXG6WYUVJlifTOvdJfJkvHDxhdXaucFxmgiABvVVTbtX1/91jFGwCAc2H4nI/nYvHixVq7dq3eeust+fj4NNnG29tbgYGBDTYAAAAAXVjkUOmOD6UrHpM8fKS9G6Tnxktb/59ktxtdXYtMJpNSEpy9HzOy3XfxHAAA2ouh4WN4eLgsFovy8/Mb7M/Pz1dUVFSLxy5ZskSLFy/WBx98oGHDhnVkmQAAAAA6m8VDmvBr6e4tUr+Lpeoy6T+/ldZcLRVmG11di1IGOcPHTVmEjwAAGBo+enl5afTo0UpPT3fts9vtSk9P1/jx45s97sknn9Rjjz2m9evXa8yYMZ1RKgAAAAAjhMVLt78rXb1E8vKXcjKl5y+WNi2TbDVGV9ekCbU9H78+UqJjZVUGVwMAgLEMH3adlpamVatW6eWXX9Z3332nu+++W2VlZZo5c6Ykafr06Zo3b56r/RNPPKGHH35Yq1evVlxcnPLy8pSXl6fS0lKjbgEAAABARzKbpXF3Sr/KlOJ/INkqpY8WSC+mSvnfGF1dI70DfDQ4KkAOh7SZodcAgB7O8PBx6tSpWrJkiebPn68RI0Zo586dWr9+vWsRmpycHOXm5rraP//886qqqtJNN92k6Oho17ZkyRKjbgEAAABAZwjuJ932pnT9CsknSDryufT/LpE+XiTVdK0ehim1q15nZBUYXAkAAMYyORwOh9FFdCar1aqgoCCVlJSw+AwAAHBLPM+4P77DdmDNld79jbTrXefr3udL1y+X+owytq5an+wu0IzV2xQT5KPND/xAJpPJ6JIAAGg3bXmWMbznIwAAAAC0WWC0dPOr0k2rJd8w6eg30guXSx/Ol6pPGl2dxsWFysvDrCMlFdpTUGZ0OQAAGIbwEQAAAIB7MpmkC6ZI92yTLrhJctilzX+SViZLBzINLa2Xl0Vj40IkSZsYeg0A6MEIHwEAAAC4N79w6aYXpZv/JvlHSUXZ0ks/lN77P6nSuIUpUxIjJEkZWSw6AwDouQgfAQAAAHQPg6+W7tkqjbxNkkPa9mfp+fHSno8NKSc5wbnozKd7i1RVYzekBgAAjEb4CAAAAKD76BXsXA37tjeloH5ScY70l8nSP2dJJ4s7tZSh0YEK8/NSWZVNn+cc79RrAwDQVRA+AgAAAOh+Ei6XfrVFGnun8/Xnf5Geu0ja9Z9OK8FsNmlCbe/HTdkMvQYA9EyEjwAAAAC6J+8A6Zol0sz/SKHx0olc6W83S//4uVRW1CklpCQ6w8eNzPsIAOihCB8BAAAAdG/9L5bu3ixd/GvJZJa+el1aMU76+k3J4ejQS9ctOvPVoWIVl1d16LUAAOiKCB8BAAAAdH+evaQrH5N+/pEUMUQqL5TemCmtu006kddhl40K8lFib3/ZHdKWPZ3T2xIAgK6E8BEAAABAz9FntPSLT6RL5kpmD+n7fzt7QX7+aof1gkyuHXqdwdBrAEAPRPgIAAAAoGfx8JYu+5101ydS9AipokT656+kv06Rig+2++Um1g69zsgqkKODh3kDANDVED4CAAAA6JmiLpB+ni6lPiJZvKU96c4VsT97QbLb2+0ySQND5Wkx6dDxkzpQVN5u5wUAwB0QPgIAAADouSweUvIc54I0sUlSVan07m+kl38kFe1pl0v4enlodP8QSVJGNkOvAQA9C+EjAAAAAIQnSjP/I131hOTpKx3YLD0/QdryrGS3nfPp61a9zthdcM7nAgDAnRA+AgAAAIAkmS3SRb+UfpUpDbhEqjkpffCQ9OKV0tHvzunUyQnORWcy9xSpxtZ+Q7oBAOjqCB8BAAAAoL6QOGn6P6Vrn5G8A6XD/5P+30Tpk6ckW/VZnfKCPkEK9vXUicoafXGouF3LBQCgKyN8BAAAAIDTmUzS6BnSrz6VBl0l2aqkj38v/fky6cjONp/OYjZpQryz92NGFvM+AgB6DsJHAAAAAGhOUB9p2lrpxlVSr1Ap/ytp1Q+kjx6VqivadKqURMJHAEDPQ/gIAAAAAC0xmaRhP5Hu2Sadf4PksEmblkr/L0U6uK3Vp0muDR93HiyWteLshm8DAOBuCB8BAAAAoDX8I6Qfr5Gm/lXy6y0V7nYuRrN+nlRVdsbD+4b4amC4n2x2hzL3FHV8vQAAdAGEjwAAAADQFkOule7ZKg2/RZJD+vQ56fmLpX0bz3hoXe/HVzL3a0t2oSqqbR1cLAAAxvIwugAAAAAAcDu+odINz0sX3Cj9a7Z0fL/08rXS6NulKxZKPkFNHnbZ4N56JfOANmcXaXN2kbw8zBrTP0QTEsI1Pj5Mw/oEycNCHxEAQPdhcjgcDqOL6ExWq1VBQUEqKSlRYGCg0eUAAAC0Gc8z7o/vsJupsEofPSL970Xn68A+0o+WSYOubNTU4XDoX1/m6uPvj2pzdqGOnqhs8L6/t4eSBoTq4oRwTUgI06DeATKbTR1/DwAAtEFbnmUIHwEAANwMzzPuj++wm9qXIb1zr3R8n/P1sJulqxY5e0k2weFwaE9BmTL3FGpzdpEy9xap5GTDhWjC/Lw0Pj5MF8c7w8h+ob4ymQgjAQDGInxsAQ96AADA3fE84/74DruxqnLp4z9ImSskOZwL01yzRBp6/RkPtdkd+i7Xqi21YeS2fcd08rQ5IfsE99LF8WG6OMEZSEYG+nTQjQAA0DzCxxbwoAcAANwdzzPuj++wBzj4mfTPe6TCXc7XQ66Trnla8u/d6lNU1dj1xaFibc4u1JY9Rfo857iqbQ1/fYuP8NOEhHBdHB+miwaGKdjXqz3vAgCAJhE+toAHPQAA4O54nnF/fIc9RE2ltPEpKWOp5LBJvUKkq56Qhv1EOouh0+VVNfrf/uPavKdQW7KL9PWREtX/bc5kks6PCdSE+HBdnBCusXEh8vVijVEAQPsjfGwBD3oAAMDd8Tzj/vgOe5jcL5y9IPO+cr5OvFIad5fkF+HsCekXIVk823zakvJqZe4tcs4ZuadI2UdLG7zvaTFpZGyIxseHaUJCuEbEBsvLg5W0AQDnjvCxBTzoAQAAd8fzzCkrVqzQU089pby8PA0fPlzPPvusxo0b12Tbb775RvPnz9f27dt14MAB/fGPf9Ts2bPbfM6Kigr95je/0dq1a1VZWalJkybpueeeU2RkZKvr5jvsgWzV0uY/SZ88IdmqGr/fK8Q5P2RdGNngz96Sf8Sp9z28m7zEUWuFtuwpcs0Zebj4ZMNLeFo0dkCoLo4P04T4cA2NCZSFlbQBAGehLc8y9MEHAACAW1q3bp3S0tK0cuVKJSUladmyZZo0aZJ27dql3r0bz6tXXl6ugQMH6sc//rHmzJlz1uecM2eO3n33Xb3++usKCgrSrFmzdOONN2rz5s0der9wcxZPaeL90uAfSRsWSUV7pLKjUlmhc0j2yePOrW6OyJZ4B50KI/3CXQFlb/8ITfbrrclJveX4wQAdqgrQppxybdnj7B1ZWFqljbsLtHF3gSQpqJenLhoY6lpJOz7Cn5W0AQDtjp6PAAAAbobnGaekpCSNHTtWy5cvlyTZ7XbFxsbq3nvv1QMPPNDisXFxcZo9e3ajno9nOmdJSYkiIiL02muv6aabbpIkff/99xoyZIgyMzN10UUXtap2vkO42O3O0LHsqFR6VCorqP3zqFRa0Hi/vbpt5/f0k/wj5PDrrVKPEB2uDtDusl768riXDlUHqNARqEIFqcgRpF7+wbo4wTlf5MXxYeob4tsx9wwAcHv0fGwHNptN1dVt/A87uiRPT09ZLBajywAAAO2oqqpK27dv17x581z7zGazUlNTlZmZ2WHn3L59u6qrq5WamupqM3jwYPXr16/F8LGyslKVlZWu11ar9axqRDdkNkt+Yc6t95CW2zocUkVx06GkK6wsOPVzzUmpukw6XibT8f0KkDS4drvOJOm0hbErqj1V+F2QCr8N1PeOIO30DpNfaLQiomLVr1+cAsNiTg0H7xVyVovmAK1iq5GqTkiVpVJVmfPvsXeg5B8peQfwdw9wM4SPp3E4HMrLy1NxcbHRpaAdBQcHKyoqimEkAAB0E4WFhbLZbI3mWYyMjNT333/fYefMy8uTl5eXgoODG7XJy8tr9tyLFi3So48+elZ1AS4mkzP06xUiRQxqua3DIVWVtq43ZVmBVFUqH1O1+qpQfU2FznPUSDpau3152unNnjL5RTSci7L+XJX156v0DZXMdAbothwO5zymlaXOwLCqrImfazfXz2VS5Yl6P5/WxlbZ/PU8fZ1/t/wjT20BdT9HOd8LiJJ8wyULkQfQFfC/xNPUBY+9e/eWr68vYZWbczgcKi8v19GjRyVJ0dHRBlcEAAB6onnz5iktLc312mq1KjY21sCK0O2ZTM4eYt4BUlj8mdtXlTcIJyuK83Tk0AEV5R/SyeJ8eVcWKlwlCjeVKMhULpO9WjpxxLmdsRazMwhqzWI6BEYdz+GQqsvrBYBlpwWDpad6HNbvfVhV2nx7e03H1Grxkrz8nNMHVJQ466kul47vd24tMtXOiVovkPTvfdrr2tDS279j6gcgifCxAZvN5goew8LCjC4H7aRXr16SpKNHj6p3794MwQYAoBsIDw+XxWJRfn5+g/35+fmKiorqsHNGRUWpqqpKxcXFDXo/num63t7e8vZueoVioEvw8pW84qSQOEmSj6SBtZskFZVW6tO9x7R5T6H+l52nE0W5CjeVuLYos1VDAysU71uuKMsJBdQcl6nsqHTymOSw1y6uc7QVhZicPSVdoWRE44CyfoDZzMrf3YrdfqqHYEsB4Jl6E9Y/h8PeMbV69HKGhd7+kldAvZ9rN9fPfs5g3PVzU238JY/T5gaoKpNK8509dk/kOf8szXPuO5F/6r2yo7V/72qnIshvulwXT796vSebCSj9I51hJr14gTYjfKynbo5HX18mVu5u6r7T6upqwkcAALoBLy8vjR49Wunp6Zo8ebIk5+Iw6enpmjVrVoedc/To0fL09FR6erqmTJkiSdq1a5dycnI0fvz4c74voKsK8/fWNcOidc2waEkX6nDxSWXuKdKW7EJt3FOofGulVCTnJsnf20PjBoRqwoBApcSYlOBbLnN5YcMh3/WHfZcelcoLnYFReZFzK/juzIX5BDURSjYTVnr26siP6JS6+QqbDQCbGn7cQu/D6rKOq9XLv4UA0M8ZILp+9q8NDP0ah4R1+zq616qXnxQ60Lm1xG5z/h1qKaAsrX2vqtT5GR/b69xaYjLX/n06fbh3E0PAvfza774BN0f42ASGWnc/fKcAAHQ/aWlpmjFjhsaMGaNx48Zp2bJlKisr08yZMyVJ06dPV58+fbRo0SJJzgVlvv32W9fPhw8f1s6dO+Xv76+EhIRWnTMoKEh33HGH0tLSFBoaqsDAQN17770aP358q1e6BrqDPsG9dNPovrppdF85HA7tLSzTluxCbdlTpMy9RSour9Z/vz+q/37v7O0Y6uel8fFhujg+URMGh6t/WBNTXNltUvmx1q38XVbgHOpbUeLcirLOXLSX/5mHfXv5nwoCWzv8+PQehzUVHfCJyxl8NQoD/ZsIEFvqcVjvZ09f54JH3ZHZUtuDsfeZ21aW1gaS+acFlKftKytwhuN1+87EK6Dp4d6nz1HpG9Z9vwegFuEjAAAA3NLUqVNVUFCg+fPnKy8vTyNGjND69etdC8bk5OTIXO8XuiNHjmjkyJGu10uWLNGSJUt0ySWXaMOGDa06pyT98Y9/lNls1pQpU1RZWalJkybpueee65ybBrogk8mk+Ah/xUf466fj42S3O/RtrlVb9jjDyG37julYWZXe/TJX736ZK0mKCfLRxQnhujg+TBfHhysqyKc2MKpdxCby/JYvarfXrvxdG06WFTS/mE7pUecCJnWB4vF9Hf+hSJLZs5kwsJVDjk/vfejhwyrPHcG79rM+09yothpn79wGAWXeaUPAa/dXlzsD62MnpGN7Wj6vqV5Q2txw77p9ndV7F2hnJofD4TC6iM5ktVoVFBSkkpISBQYGNnivoqJC+/bt04ABA+Tj42NQhV1HXFycZs+erdmzZ7eq/YYNG3TZZZfp+PHjjVaANBrfLQCgO2npeQbuge8QPUlVjV1fHirW5uwibdlTqM9zilVlazjn4MAIP02Id4aR4+PDFOzr1czZzoLDIVVamwknT+tVWV1+qlfh2Q4/rgsWT5+vED1D3UrzzQaU9YLKskJJbYhkvAObH/JdvzdlrxB6U3Z1dptUfVKqqZRqav90va5oYl9TbWq36oqGr+va9b9Y+uETHXYLbXmWoedjN3CmIcULFizQI4880ubzfvbZZ/Lza/08FRdffLFyc3MVFBTU5msBAAAA6J68PMwaExeqMXGhui81USerbPrfgWPanF2kzD2F+upwifYWlGlvQZn+8ukBmUzS0OhATajtGTk2LlR+3ufwq6vJ5Jwb0idICk9ovxsDmlJ/pfkz/X2zVTsDyCYDytOGgNdUOEP0SuuZpxkwezinEmgpoKwbAu7ZgzvnOBzO7+Bsgr0mA8F6x59+3OmvO2qF+PoCzm4Bvo5A+NgN5Obmun5et26d5s+fr127drn2+fv7u352OByy2Wzy8DjzVx8REdGmOry8vM56dUkAAAAAPUMvL4tSEiOUkuj8faOkvFqf7itS5p4ibc4uVNbRUn1zxKpvjlj154175WE2aWS/YI2PD9eE+DCN6Bcsbw8WkUQ3YPGUAqOdW0tcvXfrAsoW5qgsL3IGWyeOOLcz8Qk6bT7KqKaHgPcK6bhh/3a7c2qE1oR25xz+nXZcW3qedhSLl3NahbrN00fy8G5iX/3N2zkM38Pbucq867XPqX2tmfO0kxA+noHD4dDJapsh1+7laWnVQin1A7+goCCZTCbXvrqh0O+9954eeughffXVV/rggw8UGxurtLQ0ffrppyorK9OQIUO0aNEipaamus51+rBrk8mkVatW6d1339X777+vPn366Omnn9Z1113X4Fp1w67XrFmj2bNna926dZo9e7YOHjyo5ORkvfTSS4qOdv6fa01NjdLS0vTKK6/IYrHo5z//ufLy8lRSUqK33367nT5JAAAAAF1VkK+nJp0fpUnnO3+HOXqionYl7SJt3lOoQ8dP6rP9x/XZ/uN6Jj1LPp5mjY0L1cXx4ZqQEKbzY4JkMTMXIrqxBr13E1tua6tuOP9kUwFl3Wtb5alFmwp3tXxes+dpvSdrA0rvgHqhXguhYZPhX+0+W2X7fVbnokGIVy/Uayr88/RpGPS1+bh6x5u7/z+mED6ewclqm4bOf9+Qa3+7cJJ8vdrnK3rggQe0ZMkSDRw4UCEhITp48KCuvvpq/eEPf5C3t7deeeUVXXvttdq1a5f69evX7HkeffRRPfnkk3rqqaf07LPP6tZbb9WBAwcUGhraZPvy8nItWbJEf/nLX2Q2m3Xbbbfp/vvv16uvvipJeuKJJ/Tqq6/qpZde0pAhQ/SnP/1Jb7/9ti677LJ2uW8AAAAA7qV3gI+uH9FH14/oI0k6eKxcm2tX0t6yp0iFpZXKyCpURlahJCnQx0MXDQzTxfFhmpAQroTe/q3qxAF0SxZPKaiPc2uJw+EMHRsFlE0sonPymGSvlqyHnFtHMlma6dF3tj0Bz3Bc3WuLFws6dSDCxx5i4cKFuuKKK1yvQ0NDNXz4cNfrxx57TG+99ZbeeecdzZo1q9nz3H777Zo2bZok6fHHH9czzzyjbdu26aqrrmqyfXV1tVauXKn4eOfKYbNmzdLChQtd7z/77LOaN2+ebrjhBknS8uXL9d577539jQIAAADoVmJDfXXzuH66eVw/ORwO7c4v1ZY9hdqcXaSte4tkrajRB9/m64Nv8yVJEQHeziAyPlzj48MUG+pr8B0AXZDJJPUKdm4R57XctqbSuUhTUwFlVWltiNeagPD/t3fvwVGV9x/HP2c3u7nfgJCEgiAXAVHIyK3BGwg1oqWmxRFplICo1QIDZRgRQS5tFTteihZLdaaScVpEsQ11UKFAKVguJYKh0AJVfihYCQGBXMlusnt+f2yyZAmXgEnOSfb9msmwe/ZcvptH7bcfnuecRswEdBJTtUWM6mVEu5z6z8+zLLt2Uxk0aFDI+/Lyci1cuFAffPCBjh07ppqaGp09e1ZHjhy55Hn69+8ffB0bG6uEhAQVFxdfdP+YmJhg8ChJ6enpwf1LSkp0/PhxDRkyJPi50+nUwIED5ff7G5wLAAAAQHgzDEO90+LVOy1ek26+VjU+v/Z9Xapth05q2+ffqOCLUzpR5tFfCr/WXwoD97u7pl2MhvVor2E9Oyize3ulxEda/C2AViYiUkrsHPgBrgLh42UYhtFkS5+tdP5Tq2fNmqX169frxRdfVM+ePRUdHa377rtPXq/3kudxuVwh7w3DuGRQeKH9TdMGN3QFAAAA0OpFOB3K6JKkjC5J+unwnvLU+LT7yzPafuikth76RoVHz+jIqUodOVWplQVHJUm9U+M1rGd7DevRQUO7t1NClOsyVwEAfButP1XDVdm6dasmTpwYXO5cXl6uL774okVrSExMVGpqqgoKCnTbbbdJknw+n3bv3q2MjIwWrQUAAABA6xcZ4VRmj/bK7NFeMyWVe2pUcPhU8J6R/zlWqoPHy3TweJmWb/1CDkO6sXOSbu4RCCMHdk1WtLvtP/wBAFoS4WOY6tWrl/785z9rzJgxMgxDzzzzjCVLnadNm6bFixerZ8+e6tOnj37zm9/o9OnT3CAaAAAAwLcWFxmhEX06akSfjpKkUxVe7fi/b7T185Pafugb/d/JCu05ekZ7jp7Rb/9+SJIU43YqOcatpBhX7Y9byTEuJce4lRgd+DM5tm67W0nRLiVGu+TgidsAcEGEj2Hq5Zdf1sMPP6xhw4apQ4cOmj17tkpLS1u8jtmzZ6uoqEgTJkyQ0+nUY489pqysLDmd/G0jAAAAgKbVLtatu29M1903pkuSvj5zVtsPfaOttfeMLCqtUqXXp0rvWf3vzNlGn9cwFAwmk2JcSgq+DgSX50LMwOfJsYHQMsbtZOIFgDbPMMPsBnylpaVKTExUSUmJEhISQj6rqqrS4cOHde211yoqKsqiCsOb3+9X3759df/99+sXv/hFk52XsQUAtCWX6mfQOjCGgP2YpqnSszU6c9ar05XVOl3p1ZlKr85UVut0ZbXOVHqDf54Jfl6tck/NVV/T7XQEwsh6My0vFlom175OinHJ5XQ04TcHgCt3Jb0MMx9hqS+//FJ//etfdfvtt8vj8Wjp0qU6fPiwfvzjH1tdGgAAAIAwYhiGEmNcSoxxqWv7xh/nrfHrzFmvSmpDyguHloHgsqReaOn1+eX1+VVc5lFxmeeKao2LjDgvtDwXTl4stIyPjGBpOABLED7CUg6HQ3l5eZo1a5ZM09QNN9ygDRs2qG/fvlaXBgAAAACX5Y5wqGN8lDrGN36FlWmaqvT6dOZstU5X1J9JeZHQ8mzg85Kz1TLNwIN0yj01+up045eGOx2GEqPrza6Mrnc/y9i65eL1QszYwH5RLm6JBeDbIXyEpbp06aKtW7daXQYAAAAAtBjDMBQbGaHYyAh9Jym60cf5/KZKz1YHQsvasPJ0xblg8nS9peGnK86FlpVen3x+U6cqvDpV4ZVU0ehrRkY4zt2r8ryZlhebeZkY7VIES8MB1CJ8BAAAAACgFXA6DCXHupUc69a1im30cZ4an85UVofMsKxbIl63FDz0fpaB1zV+U54av4pKq1RUWnVFtcZHRTS4V+XlQsy4yAgewAO0QYSPAAAAAAC0YZERTqUmOJWacGVLw8s9NSGhZd39Ks8PMc9UeoNLyEurAg/gKauqUVlVjY6canydEQ6jwUzKpOjAsvD4yAjFREYoLtIZmDXqjqidPeoMvo6LjFCUy0GACdgM4SMAAAAAAAhhGIbio1yKj3KpS7vGH1fj89cu965Wydlzy8LPVFYHnyR+oeXiVdV+1fhNnSz36mS596rrdhgKDSbPDyprQ8rANmdw+Xus+9xnMW5nYJ/ICEW7nDyoB/iWCB8BAAAAAECTiHA61D4uUu3jIq/ouKpqXzCkPP/PM5Xe2ofs+FRZ+7CdCm+NKj2+wGtPjSq8PkmS35TKPDUq89Q0yfcxDCnGVS+YrJ1pGVd/JqY7dFZmIMAMhJt1r+Nqw88Yd4SchJkIM4SPAAAAAADAUlEup9ITo5We2PgH8NTn95s6W+1TRW04WekNDSYr6l57fKrw1pz7zFP7mbfhe78pmaYCx3t9Ki7zNMl3jQ6Gmc7QYDIyQnHnz9pssN+5WZp1r3m4D+yO8BEAAAAAALRqDse5J4h3bILzmaapqmp/vQCzYVBZfongsm6WZkVwpmbgieOSdLbap7PVPp0sb4JCFXgieV0wWX/JeP37YV56yXnoLE13BGEmmhbhIyRJw4cPV0ZGhpYsWSJJ6tatm2bMmKEZM2Zc9BjDMJSfn6/s7Oxvde2mOg8AAAAAAE3BMAxFu52KdjuVEn9lS8gvxDQDTw6vP/vygrM0683ULPcElpbXzdQMLjOvPbbaFwgzPTV+eWq8+qbi6u+VWZ/b6QguEY+LbHjvzLi6WZq1Yac7wqHICKciIxyBH5dTbqdDka7a9/U/i3Aq0uWQ2+ngXpphhPCxDRgzZoyqq6u1du3aBp99/PHHuu2227Rnzx7179+/0ecsKChQbGxsU5aphQsXavXq1SosLAzZfuzYMSUnJzfptQAAAAAAsAvDMBTlcirK5VT7uKY5p7c2zLxsgFk7a7PudXDGZr0ZneWeGnlr/IHz+vzyVvp1urK6aQq9CJfTuGxo6Q6GlqHBZWCfc8e66167ruw4nozeMggf24DJkydr7Nix+uqrr9S5c+eQz5YvX65BgwZdUfAoSSkpKU1Z4iWlpaW12LUAAAAAAGgL3BEOuSPcSo51N8n5qn3+wOxKb825B/vUCy3rlppX1rtnZqXXJ2+Nv3b2pU+eGn/o+2p/cFtVjU+mWf96pqp9NSpvmltpXhW30xESWgaCzMaEnfXeNwg8zzuP6wLH1Qasbmd4BKCEj5djmlJ1pTXXdsUEHq11Gd///veVkpKivLw8zZs3L7i9vLxcq1at0lNPPaXx48dry5YtOn36tHr06KGnn35a48ePv+g5z192/dlnn2ny5MnauXOnunfvrldeeaXBMbNnz1Z+fr6++uorpaWlKScnR/Pnz5fL5VJeXp4WLVokScF/sZYvX66JEyc2WHa9d+9eTZ8+Xdu3b1dMTIzGjh2rl19+WXFxgb8emjhxos6cOaNbbrlFL730krxerx544AEtWbJELperUb9aAAAAAABwjsvpUGKMQ4kxzfP/q03TVI0/sPzcU+2T1+cPhpOhwaUvZPu5MDNwnOeix9V+XlMXePpCj6t9XZ/X55fX51cTPUvoqpwfWgZDSlf95eqXCjvPe1/7eVpilG66xh6rTAkfL6e6UnqukzXXfvpryX35pc8RERGaMGGC8vLyNHfu3GC4t2rVKvl8Pj344INatWqVZs+erYSEBH3wwQd66KGH1KNHDw0ZMuSy5/f7/frRj36k1NRU/fOf/1RJSckF7wUZHx+vvLw8derUSXv37tWjjz6q+Ph4Pfnkkxo3bpz27duntWvXasOGDZKkxMTEBueoqKhQVlaWMjMzVVBQoOLiYj3yyCOaOnWq8vLygvtt2rRJ6enp2rRpkz7//HONGzdOGRkZevTRRy/7fQAAAAAAQMsyDEMupyGXM/CAHCuYpqlqnxkMLS8feIbO3vScF2heKEAN+bz++3pBaX3e2m1lqmnS7zqid4qWT7p85tMSCB/biIcfflgvvPCCNm/erOHDh0sKzCwcO3asunbtqlmzZgX3nTZtmtatW6d33323UeHjhg0bdODAAa1bt06dOgWC2Oeee06jR48O2a/+rMtu3bpp1qxZWrlypZ588klFR0crLi5OERERl1xmvWLFClVVVemtt94K3nNy6dKlGjNmjH71q18pNTVVkpScnKylS5fK6XSqT58+uueee7Rx40bCRwAAAAAAcEGGYcgdYcgd4VC8RTWYphkILWvqgstLzd6sF2pWX2BZe+05AucLDUqvS7PqGzZE+Hg5rpjADESrrt1Iffr00bBhw/Tmm29q+PDh+vzzz/Xxxx/r5z//uXw+n5577jm9++67+t///iev1yuPx6OYmMadf//+/erSpUsweJSkzMzMBvu98847evXVV3Xo0CGVl5erpqZGCQkJjf4OddcaMGBAyMNubr75Zvn9fh08eDAYPvbr109OpzO4T3p6uvbu3XtF1wIAAAAAAGhJhlH3oB2nFGV1NS3DYXUBtmcYgaXPVvxc4U1HJ0+erD/96U8qKyvT8uXL1aNHD91+++164YUX9Morr2j27NnatGmTCgsLlZWVJa/X22S/pu3btysnJ0d333231qxZo08//VRz585t0mvUd/69HQ3DkN/vv8jeAAAAAAAAsALhYxty//33y+FwaMWKFXrrrbf08MMPyzAMbd26Vffee68efPBBDRgwQN27d9d///vfRp+3b9++Onr0qI4dOxbctmPHjpB9tm3bpq5du2ru3LkaNGiQevXqpS+//DJkH7fbLZ/Pd9lr7dmzRxUVFcFtW7dulcPhUO/evRtdMwAAAAAAAKxH+NiGxMXFady4cZozZ46OHTumiRMnSpJ69eql9evXa9u2bdq/f79+8pOf6Pjx440+76hRo3TdddcpNzdXe/bs0ccff6y5c+eG7NOrVy8dOXJEK1eu1KFDh/Tqq68qPz8/ZJ9u3brp8OHDKiws1MmTJ+XxNHycVE5OjqKiopSbm6t9+/Zp06ZNmjZtmh566KHgkmsAAAAAAAC0DoSPbczkyZN1+vRpZWVlBe/ROG/ePN10003KysrS8OHDlZaWpuzs7Eaf0+FwKD8/X2fPntWQIUP0yCOP6Nlnnw3Z5wc/+IF+9rOfaerUqcrIyNC2bdv0zDPPhOwzduxY3XXXXRoxYoRSUlL09ttvN7hWTEyM1q1bp1OnTmnw4MG67777NHLkSC1duvTKfxkAAAAAAACwlGGapml1ES2ptLRUiYmJKikpafAwlKqqKh0+fFjXXnutoqLC5K6fYYKxBQC0JZfqZ9A6MIYAAKA1u5JehpmPAAAAAAAAAJoF4SMAAAAAAACAZkH4CAAAAAAAAKBZED4CAAAAAAAAaBaEjxcQZs/gCQuMKQAAAAAAQMsjfKzH5XJJkiorKy2uBE2tbkzrxhgAAAAAAADNL8LqAuzE6XQqKSlJxcXFkqSYmBgZhmFxVfg2TNNUZWWliouLlZSUJKfTaXVJAAAAAAAAYYPw8TxpaWmSFAwg0TYkJSUFxxYAAAAAAAAtg/DxPIZhKD09XR07dlR1dbXV5aAJuFwuZjwCAAAAAABYgPDxIpxOJ4EVAAAAAAAA8C3Y4oEzr732mrp166aoqCgNHTpUO3fuvOT+q1atUp8+fRQVFaUbb7xRH374YQtVCgAAAAAAAKCxLA8f33nnHc2cOVMLFizQ7t27NWDAAGVlZV30novbtm3T+PHjNXnyZH366afKzs5Wdna29u3b18KVAwAAAAAAALgUwzRN08oChg4dqsGDB2vp0qWSJL/fry5dumjatGl66qmnGuw/btw4VVRUaM2aNcFt3/3ud5WRkaHf/e53l71eaWmpEhMTVVJSooSEhKb7IgAAAC2Efqb1YwwBAEBrdiW9jKX3fPR6vdq1a5fmzJkT3OZwODRq1Cht3779gsds375dM2fODNmWlZWl1atXX3B/j8cjj8cTfF9SUiIp8EsCAABojer6GIv/DhnfQt3Y0ZMCAIDW6Er6UUvDx5MnT8rn8yk1NTVke2pqqg4cOHDBY4qKii64f1FR0QX3X7x4sRYtWtRge5cuXa6yagAAAHsoKytTYmKi1WXgKpSVlUmiJwUAAK1bY/rRNv+06zlz5oTMlPT7/Tp16pTat28vwzCa7bqlpaXq0qWLjh49ylIaG2Fc7IuxsSfGxb4YG3tqqXExTVNlZWXq1KlTs10DzatTp046evSo4uPjm60n5b8T9sXY2BPjYl+MjT0xLvbVEmNzJf2opeFjhw4d5HQ6dfz48ZDtx48fV1pa2gWPSUtLu6L9IyMjFRkZGbItKSnp6ou+QgkJCfxLaEOMi30xNvbEuNgXY2NPLTEuzHhs3RwOhzp37twi1+K/E/bF2NgT42JfjI09MS721dxj09h+1NKnXbvdbg0cOFAbN24MbvP7/dq4caMyMzMveExmZmbI/pK0fv36i+4PAAAAAAAAwBqWL7ueOXOmcnNzNWjQIA0ZMkRLlixRRUWFJk2aJEmaMGGCvvOd72jx4sWSpOnTp+v222/XSy+9pHvuuUcrV67UJ598ojfeeMPKrwEAAAAAAADgPJaHj+PGjdOJEyc0f/58FRUVKSMjQ2vXrg0+VObIkSNyOM5N0Bw2bJhWrFihefPm6emnn1avXr20evVq3XDDDVZ9hQuKjIzUggULGiz5hrUYF/tibOyJcbEvxsaeGBfYCf882hdjY0+Mi30xNvbEuNiX3cbGMBvzTGwAAAAAAAAAuEKW3vMRAAAAAAAAQNtF+AgAAAAAAACgWRA+AgAAAAAAAGgWhI8AAAAAAAAAmgXhYzN47bXX1K1bN0VFRWno0KHauXOn1SVB0pYtWzRmzBh16tRJhmFo9erVVpcU9hYvXqzBgwcrPj5eHTt2VHZ2tg4ePGh1WZC0bNky9e/fXwkJCUpISFBmZqY++ugjq8vCeZ5//nkZhqEZM2ZYXUrYW7hwoQzDCPnp06eP1WUhzNGT2g/9qD3Rk9oT/WjrQD9qH3buRwkfm9g777yjmTNnasGCBdq9e7cGDBigrKwsFRcXW11a2KuoqNCAAQP02muvWV0Kam3evFlTpkzRjh07tH79elVXV+vOO+9URUWF1aWFvc6dO+v555/Xrl279Mknn+iOO+7Qvffeq3//+99Wl4ZaBQUFev3119W/f3+rS0Gtfv366dixY8Gff/zjH1aXhDBGT2pP9KP2RE9qT/Sj9kc/aj927UcN0zRNq4toS4YOHarBgwdr6dKlkiS/368uXbpo2rRpeuqppyyuDnUMw1B+fr6ys7OtLgX1nDhxQh07dtTmzZt12223WV0OztOuXTu98MILmjx5stWlhL3y8nLddNNN+u1vf6tf/vKXysjI0JIlS6wuK6wtXLhQq1evVmFhodWlAJLoSVsD+lH7oie1L/pR+6AftR8796PMfGxCXq9Xu3bt0qhRo4LbHA6HRo0ape3bt1tYGdA6lJSUSAo0FbAPn8+nlStXqqKiQpmZmVaXA0lTpkzRPffcE/K/N7DeZ599pk6dOql79+7KycnRkSNHrC4JYYqeFPh26Enth37UfuhH7cmu/WiE1QW0JSdPnpTP51NqamrI9tTUVB04cMCiqoDWwe/3a8aMGbr55pt1ww03WF0OJO3du1eZmZmqqqpSXFyc8vPzdf3111tdVthbuXKldu/erYKCAqtLQT1Dhw5VXl6eevfurWPHjmnRokW69dZbtW/fPsXHx1tdHsIMPSlw9ehJ7YV+1J7oR+3Jzv0o4SMAW5gyZYr27dtnm3tSQOrdu7cKCwtVUlKi9957T7m5udq8eTMNn4WOHj2q6dOna/369YqKirK6HNQzevTo4Ov+/ftr6NCh6tq1q959912WhgFAK0JPai/0o/ZDP2pfdu5HCR+bUIcOHeR0OnX8+PGQ7cePH1daWppFVQH2N3XqVK1Zs0ZbtmxR586drS4Htdxut3r27ClJGjhwoAoKCvTKK6/o9ddft7iy8LVr1y4VFxfrpptuCm7z+XzasmWLli5dKo/HI6fTaWGFqJOUlKTrrrtOn3/+udWlIAzRkwJXh57UfuhH7Yd+tPWwUz/KPR+bkNvt1sCBA7Vx48bgNr/fr40bN3JfCuACTNPU1KlTlZ+fr7/97W+69tprrS4Jl+D3++XxeKwuI6yNHDlSe/fuVWFhYfBn0KBBysnJUWFhIY2ejZSXl+vQoUNKT0+3uhSEIXpS4MrQk7Ye9KPWox9tPezUjzLzsYnNnDlTubm5GjRokIYMGaIlS5aooqJCkyZNsrq0sFdeXh6S+B8+fFiFhYVq166drrnmGgsrC19TpkzRihUr9Je//EXx8fEqKiqSJCUmJio6Otri6sLbnDlzNHr0aF1zzTUqKyvTihUr9Pe//13r1q2zurSwFh8f3+D+U7GxsWrfvj33pbLYrFmzNGbMGHXt2lVff/21FixYIKfTqfHjx1tdGsIUPak90Y/aEz2pPdGP2hP9qH3ZuR8lfGxi48aN04kTJzR//nwVFRUpIyNDa9eubXDDb7S8Tz75RCNGjAi+nzlzpiQpNzdXeXl5FlUV3pYtWyZJGj58eMj25cuXa+LEiS1fEIKKi4s1YcIEHTt2TImJierfv7/WrVun733ve1aXBtjSV199pfHjx+ubb75RSkqKbrnlFu3YsUMpKSlWl4YwRU9qT/Sj9kRPak/0o8CVsXM/apimaVpdBAAAAAAAAIC2h3s+AgAAAAAAAGgWhI8AAAAAAAAAmgXhIwAAAAAAAIBmQfgIAAAAAAAAoFkQPgIAAAAAAABoFoSPAAAAAAAAAJoF4SMAAAAAAACAZkH4CAAAAAAAAKBZED4CgIUMw9Dq1autLgMAAABhin4UQHMjfAQQtiZOnCjDMBr83HXXXVaXBgAAgDBAPwogHERYXQAAWOmuu+7S8uXLQ7ZFRkZaVA0AAADCDf0ogLaOmY8AwlpkZKTS0tJCfpKTkyUFlqAsW7ZMo0ePVnR0tLp376733nsv5Pi9e/fqjjvuUHR0tNq3b6/HHntM5eXlIfu8+eab6tevnyIjI5Wenq6pU6eGfH7y5En98Ic/VExMjHr16qX3338/+Nnp06eVk5OjlJQURUdHq1evXg2aUwAAALRe9KMA2jrCRwC4hGeeeUZjx47Vnj17lJOTowceeED79++XJFVUVCgrK0vJyckqKCjQqlWrtGHDhpBmbtmyZZoyZYoee+wx7d27V++//7569uwZco1Fixbp/vvv17/+9S/dfffdysnJ0alTp4LX/89//qOPPvpI+/fv17Jly9ShQ4eW+wUAAADAUvSjAFo9EwDCVG5urul0Os3Y2NiQn2effdY0TdOUZD7++OMhxwwdOtR84oknTNM0zTfeeMNMTk42y8vLg59/8MEHpsPhMIuKikzTNM1OnTqZc+fOvWgNksx58+YF35eXl5uSzI8++sg0TdMcM2aMOWnSpKb5wgAAALAV+lEA4YB7PgIIayNGjNCyZctCtrVr1y74OjMzM+SzzMxMFRYWSpL279+vAQMGKDY2Nvj5zTffLL/fr4MHD8owDH399dcaOXLkJWvo379/8HVsbKwSEhJUXFwsSXriiSc0duxY7d69W3feeaeys7M1bNiwq/quAAAAsB/6UQBtHeEjgLAWGxvbYNlJU4mOjm7Ufi6XK+S9YRjy+/2SpNGjR+vLL7/Uhx9+qPXr12vkyJGaMmWKXnzxxSavFwAAAC2PfhRAW8c9HwHgEnbs2NHgfd++fSVJffv21Z49e1RRURH8fOvWrXI4HOrdu7fi4+PVrVs3bdy48VvVkJKSotzcXP3hD3/QkiVL9MYbb3yr8wEAAKD1oB8F0Nox8xFAWPN4PCoqKgrZFhEREbyJ9qpVqzRo0CDdcsst+uMf/6idO3fq97//vSQpJydHCxYsUG5urhYuXKgTJ05o2rRpeuihh5SamipJWrhwoR5//HF17NhRo0ePVllZmbZu3app06Y1qr758+dr4MCB6tevnzwej9asWRNsNgEAAND60Y8CaOsIHwGEtbVr1yo9PT1kW+/evXXgwAFJgSf/rVy5Uj/96U+Vnp6ut99+W9dff70kKSYmRuvWrdP06dM1ePBgxcTEaOzYsXr55ZeD58rNzVVVVZV+/etfa9asWerQoYPuu+++Rtfndrs1Z84cffHFF4qOjtatt96qlStXNsE3BwAAgB3QjwJo6wzTNE2riwAAOzIMQ/n5+crOzra6FAAAAIQh+lEAbQH3fAQAAAAAAADQLAgfAQAAAAAAADQLll0DAAAAAAAAaBbMfAQAAAAAAADQLAgfAQAAAAAAADQLwkcAAAAAAAAAzYLwEQAAAAAAAECzIHwEAAAAAAAA0CwIHwEAAAAAAAA0C8JHAAAAAAAAAM2C8BEAAAAAAABAs/h/iOLjYP0oJz8AAAAASUVORK5CYII=",
>>>>>>> master
      "text/plain": [
       "<Figure size 1600x600 with 2 Axes>"
      ]
     },
     "metadata": {},
     "output_type": "display_data"
    }
   ],
   "source": [
    "show_history(h)"
   ]
  },
  {
   "cell_type": "code",
<<<<<<< HEAD
   "execution_count": 29,
=======
   "execution_count": 140,
>>>>>>> master
   "metadata": {},
   "outputs": [],
   "source": [
    "# Save the trained model\n",
    "model.save(\"emotion_model_trained.h5\")"
   ]
  },
  {
   "cell_type": "code",
<<<<<<< HEAD
   "execution_count": 30,
=======
   "execution_count": 141,
>>>>>>> master
   "metadata": {},
   "outputs": [],
   "source": [
    "test_tweets, test_labels = get_tweets(test)\n",
    "test_sequences = get_sequences(tokenizer, test_tweets)\n",
    "test_labels = names_to_ids(test_labels)"
   ]
  },
  {
   "cell_type": "code",
<<<<<<< HEAD
   "execution_count": 31,
=======
   "execution_count": 142,
>>>>>>> master
   "metadata": {},
   "outputs": [
    {
     "name": "stdout",
     "output_type": "stream",
     "text": [
<<<<<<< HEAD
      "1954/1954 [==============================] - 21s 11ms/step - loss: 0.0958 - accuracy: 0.9386\n"
=======
      "1303/1303 [==============================] - 16s 12ms/step - loss: 0.0953 - accuracy: 0.9367\n"
>>>>>>> master
     ]
    }
   ],
   "source": [
    "_ = model.evaluate(test_sequences, test_labels)"
   ]
  },
  {
   "cell_type": "code",
<<<<<<< HEAD
   "execution_count": 70,
=======
   "execution_count": 143,
>>>>>>> master
   "metadata": {
    "colab": {
     "base_uri": "https://localhost:8080/",
     "height": 67
    },
    "colab_type": "code",
    "id": "rh638vHG5ej6",
    "outputId": "feb44736-ee6e-477e-d24a-a2fad5ebaf62"
   },
   "outputs": [
    {
     "name": "stdout",
     "output_type": "stream",
     "text": [
<<<<<<< HEAD
      "1/1 [==============================] - 0s 36ms/step\n",
      "RANDOM SENTENCE : i gotta feeling jason derulo ft chainz talk dirty calvin harris feat\n",
      "TRUE EMOTION : sadness\n",
      "PREDICTED EMOTION : sadness\n"
=======
      "1/1 [==============================] - 1s 1s/step\n",
      "RANDOM SENTENCE : i did them willingly because i loved her and wanted her to feel special and know that there was nothing i would not do for her\n",
      "TRUE EMOTION : joy\n",
      "PREDICTED EMOTION : joy\n"
>>>>>>> master
     ]
    }
   ],
   "source": [
    "# Generate a random index\n",
    "i = random.randint(0, len(test_labels) - 1)\n",
    "\n",
    "# Get the random sentence and its corresponding emotion label\n",
    "sentence = test_tweets[i]\n",
    "true_emotion = index_to_classes[test_labels[i]]\n",
    "\n",
    "# Predict the emotion using the model\n",
    "predicted_emotion = index_to_classes[np.argmax(model.predict(np.expand_dims(test_sequences[i], axis=0)))]\n",
    "\n",
    "# Print the results\n",
    "print('RANDOM SENTENCE :', sentence)\n",
    "print('TRUE EMOTION :', true_emotion)\n",
    "print('PREDICTED EMOTION :', predicted_emotion)"
   ]
  },
  {
   "cell_type": "code",
<<<<<<< HEAD
   "execution_count": 33,
=======
   "execution_count": 144,
>>>>>>> master
   "metadata": {},
   "outputs": [
    {
     "name": "stdout",
     "output_type": "stream",
     "text": [
<<<<<<< HEAD
      "1954/1954 [==============================] - 21s 11ms/step\n",
      "Prediction shape: (62522,)\n",
      "Label shape: (62522,)\n"
=======
      "1303/1303 [==============================] - 15s 12ms/step\n",
      "Prediction shape: (41681,)\n",
      "Label shape: (41681,)\n"
>>>>>>> master
     ]
    }
   ],
   "source": [
    "# Get the predicted probabilities for each class\n",
    "pred_probs = model.predict(test_sequences)\n",
    "\n",
    "# Find the class with the highest probability for each prediction\n",
    "preds = np.argmax(pred_probs, axis=1)\n",
    "\n",
    "# Print the shapes of the prediction and label arrays\n",
    "print('Prediction shape:', preds.shape)\n",
    "print('Label shape:', test_labels.shape)\n"
   ]
  },
  {
   "cell_type": "code",
<<<<<<< HEAD
   "execution_count": 34,
=======
   "execution_count": 145,
>>>>>>> master
   "metadata": {},
   "outputs": [
    {
     "data": {
<<<<<<< HEAD
      "image/png": "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",
=======
      "image/png": "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",
>>>>>>> master
      "text/plain": [
       "<Figure size 800x800 with 2 Axes>"
      ]
     },
     "metadata": {},
     "output_type": "display_data"
    }
   ],
   "source": [
    "show_confusion_matrix(test_labels, preds, list(classes))"
   ]
  }
 ],
 "metadata": {
  "accelerator": "GPU",
  "colab": {
   "collapsed_sections": [],
   "name": "Tweet Sentiment Classification: Complete.ipynb",
   "provenance": []
  },
  "kernelspec": {
   "display_name": "Python 3",
   "language": "python",
   "name": "python3"
  },
  "language_info": {
   "codemirror_mode": {
    "name": "ipython",
    "version": 3
   },
   "file_extension": ".py",
   "mimetype": "text/x-python",
   "name": "python",
   "nbconvert_exporter": "python",
   "pygments_lexer": "ipython3",
   "version": "3.10.11"
  }
 },
 "nbformat": 4,
 "nbformat_minor": 1
}
